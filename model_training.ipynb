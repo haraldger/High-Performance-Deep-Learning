{
  "cells": [
    {
      "cell_type": "markdown",
      "metadata": {
        "id": "wlGUSVv01Rtq"
      },
      "source": [
        "# Profiling resnets on GPU - Training and Data Loading\n",
        "\n",
        "Next, we compare the performance of ResNets with VGG16."
      ]
    },
    {
      "cell_type": "code",
      "execution_count": 86,
      "metadata": {
        "id": "hIia8Ncl1N2S"
      },
      "outputs": [],
      "source": [
        "import numpy as np\n",
        "import torch\n",
        "from torch import nn\n",
        "from torch.profiler import profile, record_function, ProfilerActivity\n",
        "import torchvision\n",
        "import torchvision.transforms as transforms\n",
        "import torch.optim as optim\n",
        "import time"
      ]
    },
    {
      "cell_type": "code",
      "execution_count": 87,
      "metadata": {
        "id": "pnxbAZMH0B_u"
      },
      "outputs": [],
      "source": [
        "path = \"./data\"\n",
        "workers = 2\n",
        "device = torch.device(\"cuda\" if torch.cuda.is_available() else \"cpu\")\n",
        "batch_size = 64"
      ]
    },
    {
      "cell_type": "code",
      "execution_count": 88,
      "metadata": {
        "colab": {
          "base_uri": "https://localhost:8080/"
        },
        "id": "ISoSluSv9g9P",
        "outputId": "4a43f295-c05c-4b52-af07-4ff3f470043c"
      },
      "outputs": [
        {
          "name": "stdout",
          "output_type": "stream",
          "text": [
            "Files already downloaded and verified\n",
            "Files already downloaded and verified\n"
          ]
        }
      ],
      "source": [
        "transform_train = transforms.Compose(\n",
        "    [transforms.ToTensor(),\n",
        "     transforms.Normalize((0.5, 0.5, 0.5), (0.5, 0.5, 0.5))])\n",
        "trainset = torchvision.datasets.CIFAR100(\n",
        "    root=path, train=True, download=True, transform=transform_train)\n",
        "trainloader = torch.utils.data.DataLoader(\n",
        "    trainset, batch_size=batch_size, shuffle=True, num_workers=workers)\n",
        "\n",
        "testset = torchvision.datasets.CIFAR100(\n",
        "    root=path, train=False, download=True, transform=transform_train)\n",
        "testloader = torch.utils.data.DataLoader(\n",
        "    testset, batch_size = batch_size, shuffle=True, num_workers=workers)"
      ]
    },
    {
      "cell_type": "code",
      "execution_count": 90,
      "metadata": {
        "id": "r-MAS4ZBOWHN"
      },
      "outputs": [],
      "source": [
        "def train(model, criterion, trainloader, optimizer, scheduler, epochs):\n",
        "  model.train()\n",
        "  for epoch in range(0, epochs):\n",
        "      print('\\nEpoch: %d' % epoch)\n",
        "      running_loss = 0.0\n",
        "\n",
        "      for i, data in enumerate(trainloader, 0):\n",
        "          inputs, labels = data\n",
        "          inputs = inputs.to(device)\n",
        "          labels = labels.to(device)\n",
        "\n",
        "          optimizer.zero_grad()\n",
        "\n",
        "          outputs = model(inputs)\n",
        "          loss = criterion(outputs,labels)\n",
        "          loss.backward()\n",
        "          optimizer.step()\n",
        "\n",
        "          running_loss += loss.item()\n",
        "\n",
        "          del inputs, labels\n",
        "\n",
        "          if i % 100 == 99:\n",
        "              print(f'Average loss: {running_loss / 100}')\n",
        "              running_loss = 0.0\n",
        "\n",
        "      scheduler.step()"
      ]
    },
    {
      "cell_type": "code",
      "execution_count": 96,
      "metadata": {
        "id": "Th3ZHEVTX8I_"
      },
      "outputs": [],
      "source": [
        "def evaluate(model, testloader):\n",
        "    model.eval()\n",
        "    total = 0\n",
        "    correct = 0\n",
        "    \n",
        "    with torch.no_grad():\n",
        "        for data in testloader:\n",
        "            images, labels = data\n",
        "            images = images.to(device)\n",
        "            labels = labels.to(device)\n",
        "            # calculate outputs by running images through the network\n",
        "            outputs = model(images)\n",
        "            # the class with the highest energy is what we choose as prediction\n",
        "            _, predicted = torch.max(outputs.data, 1)\n",
        "            total += labels.size(0)\n",
        "            correct += (predicted == labels).sum().item()\n",
        "\n",
        "    print(f'Accuracy of the network on the test images: {100 * correct // total} %')"
      ]
    },
    {
      "cell_type": "code",
      "execution_count": 97,
      "metadata": {
        "colab": {
          "base_uri": "https://localhost:8080/"
        },
        "id": "vO-MjM5I7rGB",
        "outputId": "3b1f27dc-b910-4411-fc7d-ae5d0d88edf7"
      },
      "outputs": [
        {
          "name": "stdout",
          "output_type": "stream",
          "text": [
            "Training Large ResNet-50 with bottleneck layers\n",
            "\n",
            "Epoch: 0\n",
            "Average loss: 5.0566258096694945\n",
            "Average loss: 4.737003808021545\n",
            "Average loss: 4.681090292930603\n",
            "Average loss: 4.638065795898438\n",
            "Average loss: 4.579130535125732\n",
            "Average loss: 4.526783618927002\n",
            "Average loss: 4.451810903549195\n",
            "Accuracy of the network on the test images: 4 %\n",
            "Total training time: 74.4431343289998s\n"
          ]
        }
      ],
      "source": [
        "lr = 0.0001\n",
        "epochs = 30\n",
        "\n",
        "net = torchvision.models.resnet101()\n",
        "net = net.to(device)\n",
        "\n",
        "criterion = nn.CrossEntropyLoss()\n",
        "optimizer = optim.Adam(net.parameters(), lr=lr)\n",
        "scheduler = torch.optim.lr_scheduler.MultiStepLR(optimizer, milestones=[20], gamma=0.1)\n",
        "\n",
        "# Train\n",
        "print(\"Training Large ResNet-50 with bottleneck layers\")\n",
        "start = time.perf_counter()\n",
        "train(net, criterion, trainloader, optimizer, scheduler, epochs)\n",
        "stop = time.perf_counter()\n",
        "\n",
        "# Evaluate\n",
        "evaluate(net, testloader)\n",
        "\n",
        "print(f'Total training time: {(stop-start)/60} minutes')"
      ]
    },
    {
      "cell_type": "code",
      "execution_count": null,
      "metadata": {
        "id": "OKOdnFg8P_lD"
      },
      "outputs": [],
      "source": [
        "lr = 0.0001\n",
        "epochs = 30\n",
        "\n",
        "net = torchvision.models.vgg16()\n",
        "net = net.to(device)\n",
        "\n",
        "criterion = nn.CrossEntropyLoss()\n",
        "optimizer = optim.SGD(net.parameters(), lr=lr, momentum=0.9)\n",
        "scheduler = torch.optim.lr_scheduler.MultiStepLR(optimizer, milestones=[20], gamma=0.1)\n",
        "\n",
        "# Train\n",
        "print(\"Training VGG-16\")\n",
        "start = time.perf_counter()\n",
        "train(net, criterion, trainloader, optimizer, scheduler, epochs)\n",
        "stop = time.perf_counter()\n",
        "\n",
        "# Evaluate\n",
        "evaluate(net, testloader)\n",
        "\n",
        "print(f'Total training time: {(stop-start)/60} minutes')"
      ]
    }
  ],
  "metadata": {
    "accelerator": "GPU",
    "colab": {
      "gpuType": "T4",
      "provenance": []
    },
    "gpuClass": "standard",
    "kernelspec": {
      "display_name": "Python 3",
      "name": "python3"
    },
    "language_info": {
      "name": "python"
    }
  },
  "nbformat": 4,
  "nbformat_minor": 0
}
