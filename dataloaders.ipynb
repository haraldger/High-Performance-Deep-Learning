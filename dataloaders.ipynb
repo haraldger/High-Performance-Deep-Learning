{
 "metadata": {
  "accelerator": "GPU",
  "colab": {
   "gpuType": "T4",
   "provenance": []
  },
  "gpuClass": "standard",
  "kernelspec": {
   "display_name": "Python 3",
   "name": "python3"
  },
  "language_info": {
   "name": "python"
  },
  "name": ""
 },
 "nbformat": 3,
 "nbformat_minor": 0,
 "worksheets": [
  {
   "cells": [
    {
     "cell_type": "markdown",
     "metadata": {
      "id": "uDb9BLWu4uW-"
     },
     "source": [
      "# Profiling memory loading\n",
      "Another crucial part of training a deep learning model is the dataset, and of course loading the dataset from disk. This task can be parallelized, and we will now investigate how the number of CPU loaders affect the time."
     ]
    },
    {
     "cell_type": "code",
     "collapsed": false,
     "input": [
      "import numpy as np\n",
      "import torch\n",
      "from torch import nn\n",
      "from torch.profiler import profile, record_function, ProfilerActivity\n",
      "import torchvision\n",
      "import torchvision.transforms as transforms"
     ],
     "language": "python",
     "metadata": {
      "id": "W73hMEoHNw_s"
     },
     "outputs": [],
     "prompt_number": 1
    },
    {
     "cell_type": "code",
     "collapsed": false,
     "input": [
      "path = \"./data\"\n",
      "device = torch.device(\"cuda\" if torch.cuda.is_available() else \"cpu\")\n",
      "batch_size = 64"
     ],
     "language": "python",
     "metadata": {
      "id": "itpSTtyAeR8B"
     },
     "outputs": [],
     "prompt_number": 2
    },
    {
     "cell_type": "code",
     "collapsed": false,
     "input": [
      "transform_train = transforms.Compose(\n",
      "    [transforms.ToTensor(),\n",
      "     transforms.Normalize((0.5, 0.5, 0.5), (0.5, 0.5, 0.5))])\n",
      "\n",
      "trainset = torchvision.datasets.CIFAR100(\n",
      "    root=path, train=True, download=True, transform=transform_train)"
     ],
     "language": "python",
     "metadata": {
      "colab": {
       "base_uri": "https://localhost:8080/"
      },
      "id": "yxzlIGeEePat",
      "outputId": "b2545e31-9380-41e9-ff3a-f574625694d8"
     },
     "outputs": [
      {
       "output_type": "stream",
       "stream": "stdout",
       "text": [
        "Files already downloaded and verified\n"
       ]
      }
     ],
     "prompt_number": 3
    },
    {
     "cell_type": "code",
     "collapsed": false,
     "input": [
      "def load_data(dataset, num_workers, sort_string):\n",
      "    trainloader = torch.utils.data.DataLoader(\n",
      "        dataset, batch_size=batch_size, shuffle=True, num_workers=num_workers)\n",
      "    \n",
      "    trainloader_enum = enumerate(trainloader)\n",
      "\n",
      "    with profile(activities=[ProfilerActivity.CPU, ProfilerActivity.CUDA], record_shapes=True) as prof:\n",
      "        with record_function(\"data_load\"):\n",
      "            batch_idx, (inputs, targets) = next(trainloader_enum)\n",
      "            inputs, targets = inputs.to(device), targets.to(device)       \n",
      "\n",
      "    print(prof.key_averages().table(sort_by=sort_string, row_limit=15))"
     ],
     "language": "python",
     "metadata": {
      "id": "kk387JXbeNug"
     },
     "outputs": [],
     "prompt_number": 4
    },
    {
     "cell_type": "heading",
     "level": 3,
     "metadata": {
      "id": "yxwpniRs5qGI"
     },
     "source": [
      "1 Loader"
     ]
    },
    {
     "cell_type": "code",
     "collapsed": false,
     "input": [
      "workers = 1\n",
      "sort_string = \"cuda_time_total\"\n",
      "load_data(trainset, workers, sort_string)"
     ],
     "language": "python",
     "metadata": {
      "colab": {
       "base_uri": "https://localhost:8080/"
      },
      "id": "1LPzBLow4n4_",
      "outputId": "8e3ebf5e-bea4-4979-f947-9c1a7d4e69f4"
     },
     "outputs": [
      {
       "output_type": "stream",
       "stream": "stdout",
       "text": [
        "-------------------------------------------------------  ------------  ------------  ------------  ------------  ------------  ------------  \n",
        "                                                   Name    Self CPU %      Self CPU   CPU total %     CPU total  CPU time avg    # of Calls  \n",
        "-------------------------------------------------------  ------------  ------------  ------------  ------------  ------------  ------------  \n",
        "                                            aten::zeros         1.30%       1.164ms         1.31%       1.177ms     588.500us             2  \n",
        "                                            aten::empty         0.04%      37.000us         0.04%      37.000us       6.167us             6  \n",
        "                                            aten::zero_         0.00%       4.000us         0.00%       4.000us       2.000us             2  \n",
        "                                              data_load         2.74%       2.464ms        98.72%      88.659ms      88.659ms             1  \n",
        "enumerate(DataLoader)#_MultiProcessingDataLoaderIter...        95.84%      86.072ms        95.92%      86.151ms      86.151ms             1  \n",
        "                                               aten::to         0.01%       7.000us         0.01%       7.000us       1.750us             4  \n",
        "                                          aten::detach_         0.01%       9.000us         0.02%      18.000us       9.000us             2  \n",
        "                                                detach_         0.01%       9.000us         0.01%       9.000us       4.500us             2  \n",
        "                                             aten::set_         0.05%      45.000us         0.05%      45.000us      22.500us             2  \n",
        "-------------------------------------------------------  ------------  ------------  ------------  ------------  ------------  ------------  \n",
        "Self CPU time total: 89.811ms\n",
        "\n"
       ]
      },
      {
       "output_type": "stream",
       "stream": "stderr",
       "text": [
        "/opt/conda/lib/python3.7/site-packages/torch/autograd/profiler.py:151: UserWarning: CUDA is not available, disabling CUDA profiling\n",
        "  warn(\"CUDA is not available, disabling CUDA profiling\")\n"
       ]
      }
     ],
     "prompt_number": 5
    },
    {
     "cell_type": "code",
     "collapsed": false,
     "input": [
      "workers = 1\n",
      "sort_string = \"self_cuda_time_total\"\n",
      "load_data(trainset, workers, sort_string)"
     ],
     "language": "python",
     "metadata": {
      "id": "xrmOKBo-5zJZ"
     },
     "outputs": [
      {
       "output_type": "stream",
       "stream": "stdout",
       "text": [
        "-------------------------------------------------------  ------------  ------------  ------------  ------------  ------------  ------------  \n",
        "                                                   Name    Self CPU %      Self CPU   CPU total %     CPU total  CPU time avg    # of Calls  \n",
        "-------------------------------------------------------  ------------  ------------  ------------  ------------  ------------  ------------  \n",
        "                                            aten::zeros         0.21%     112.000us         0.24%     124.000us      62.000us             2  \n",
        "                                            aten::empty         0.05%      24.000us         0.05%      24.000us       4.000us             6  \n",
        "                                            aten::zero_         0.01%       4.000us         0.01%       4.000us       2.000us             2  \n",
        "                                              data_load         0.38%     199.000us        99.82%      52.332ms      52.332ms             1  \n",
        "enumerate(DataLoader)#_MultiProcessingDataLoaderIter...        99.27%      52.046ms        99.37%      52.097ms      52.097ms             1  \n",
        "                                               aten::to         0.02%       9.000us         0.02%       9.000us       2.250us             4  \n",
        "                                          aten::detach_         0.02%      11.000us         0.04%      21.000us      10.500us             2  \n",
        "                                                detach_         0.02%      10.000us         0.02%      10.000us       5.000us             2  \n",
        "                                             aten::set_         0.02%      13.000us         0.02%      13.000us       6.500us             2  \n",
        "-------------------------------------------------------  ------------  ------------  ------------  ------------  ------------  ------------  \n",
        "Self CPU time total: 52.428ms\n",
        "\n"
       ]
      }
     ],
     "prompt_number": 6
    },
    {
     "cell_type": "heading",
     "level": 3,
     "metadata": {},
     "source": [
      "2 loaders"
     ]
    },
    {
     "cell_type": "code",
     "collapsed": false,
     "input": [
      "workers = 2\n",
      "sort_string = \"cuda_time_total\"\n",
      "load_data(trainset, workers, sort_string)"
     ],
     "language": "python",
     "metadata": {},
     "outputs": [
      {
       "output_type": "stream",
       "stream": "stdout",
       "text": [
        "-------------------------------------------------------  ------------  ------------  ------------  ------------  ------------  ------------  \n",
        "                                                   Name    Self CPU %      Self CPU   CPU total %     CPU total  CPU time avg    # of Calls  \n",
        "-------------------------------------------------------  ------------  ------------  ------------  ------------  ------------  ------------  \n",
        "                                            aten::zeros         0.41%     114.000us         0.51%     141.000us      70.500us             2  \n",
        "                                            aten::empty         0.15%      41.000us         0.15%      41.000us       6.833us             6  \n",
        "                                            aten::zero_         0.01%       4.000us         0.01%       4.000us       2.000us             2  \n",
        "                                              data_load         0.80%     220.000us        99.64%      27.425ms      27.425ms             1  \n",
        "enumerate(DataLoader)#_MultiProcessingDataLoaderIter...        98.45%      27.098ms        98.67%      27.157ms      27.157ms             1  \n",
        "                                               aten::to         0.03%       8.000us         0.03%       8.000us       2.000us             4  \n",
        "                                          aten::detach_         0.05%      15.000us         0.09%      26.000us      13.000us             2  \n",
        "                                                detach_         0.04%      11.000us         0.04%      11.000us       5.500us             2  \n",
        "                                             aten::set_         0.05%      13.000us         0.05%      13.000us       6.500us             2  \n",
        "-------------------------------------------------------  ------------  ------------  ------------  ------------  ------------  ------------  \n",
        "Self CPU time total: 27.524ms\n",
        "\n"
       ]
      }
     ],
     "prompt_number": 7
    },
    {
     "cell_type": "code",
     "collapsed": false,
     "input": [
      "workers = 2\n",
      "sort_string = \"self_cuda_time_total\"\n",
      "load_data(trainset, workers, sort_string)"
     ],
     "language": "python",
     "metadata": {},
     "outputs": [
      {
       "output_type": "stream",
       "stream": "stdout",
       "text": [
        "-------------------------------------------------------  ------------  ------------  ------------  ------------  ------------  ------------  \n",
        "                                                   Name    Self CPU %      Self CPU   CPU total %     CPU total  CPU time avg    # of Calls  \n",
        "-------------------------------------------------------  ------------  ------------  ------------  ------------  ------------  ------------  \n",
        "                                            aten::zeros         0.18%     104.000us         0.20%     120.000us      60.000us             2  \n",
        "                                            aten::empty         0.08%      45.000us         0.08%      45.000us       7.500us             6  \n",
        "                                            aten::zero_         0.01%       5.000us         0.01%       5.000us       2.500us             2  \n",
        "                                              data_load         0.41%     242.000us        99.87%      59.253ms      59.253ms             1  \n",
        "enumerate(DataLoader)#_MultiProcessingDataLoaderIter...        99.25%      58.884ms        99.38%      58.960ms      58.960ms             1  \n",
        "                                               aten::to         0.02%      11.000us         0.02%      11.000us       2.750us             4  \n",
        "                                          aten::detach_         0.02%      12.000us         0.04%      24.000us      12.000us             2  \n",
        "                                                detach_         0.02%      12.000us         0.02%      12.000us       6.000us             2  \n",
        "                                             aten::set_         0.03%      15.000us         0.03%      15.000us       7.500us             2  \n",
        "-------------------------------------------------------  ------------  ------------  ------------  ------------  ------------  ------------  \n",
        "Self CPU time total: 59.330ms\n",
        "\n"
       ]
      }
     ],
     "prompt_number": 8
    },
    {
     "cell_type": "heading",
     "level": 3,
     "metadata": {},
     "source": [
      "4 loaders"
     ]
    },
    {
     "cell_type": "code",
     "collapsed": false,
     "input": [
      "workers = 4\n",
      "sort_string = \"cuda_time_total\"\n",
      "load_data(trainset, workers, sort_string)"
     ],
     "language": "python",
     "metadata": {},
     "outputs": [
      {
       "output_type": "stream",
       "stream": "stdout",
       "text": [
        "-------------------------------------------------------  ------------  ------------  ------------  ------------  ------------  ------------  \n",
        "                                                   Name    Self CPU %      Self CPU   CPU total %     CPU total  CPU time avg    # of Calls  \n",
        "-------------------------------------------------------  ------------  ------------  ------------  ------------  ------------  ------------  \n",
        "                                            aten::zeros         0.40%     116.000us         0.45%     132.000us      66.000us             2  \n",
        "                                            aten::empty         0.10%      29.000us         0.10%      29.000us       4.833us             6  \n",
        "                                            aten::zero_         0.02%       6.000us         0.02%       6.000us       3.000us             2  \n",
        "                                              data_load         0.87%     255.000us        99.68%      29.071ms      29.071ms             1  \n",
        "enumerate(DataLoader)#_MultiProcessingDataLoaderIter...        98.44%      28.709ms        98.64%      28.768ms      28.768ms             1  \n",
        "                                               aten::to         0.03%       9.000us         0.03%       9.000us       2.250us             4  \n",
        "                                          aten::detach_         0.05%      14.000us         0.09%      26.000us      13.000us             2  \n",
        "                                                detach_         0.04%      12.000us         0.04%      12.000us       6.000us             2  \n",
        "                                             aten::set_         0.05%      14.000us         0.05%      14.000us       7.000us             2  \n",
        "-------------------------------------------------------  ------------  ------------  ------------  ------------  ------------  ------------  \n",
        "Self CPU time total: 29.164ms\n",
        "\n"
       ]
      }
     ],
     "prompt_number": 9
    },
    {
     "cell_type": "code",
     "collapsed": false,
     "input": [
      "workers = 4\n",
      "sort_string = \"self_cuda_time_total\"\n",
      "load_data(trainset, workers, sort_string)"
     ],
     "language": "python",
     "metadata": {},
     "outputs": [
      {
       "output_type": "stream",
       "stream": "stdout",
       "text": [
        "-------------------------------------------------------  ------------  ------------  ------------  ------------  ------------  ------------  \n",
        "                                                   Name    Self CPU %      Self CPU   CPU total %     CPU total  CPU time avg    # of Calls  \n",
        "-------------------------------------------------------  ------------  ------------  ------------  ------------  ------------  ------------  \n",
        "                                            aten::zeros         0.65%     102.000us         0.73%     115.000us      57.500us             2  \n",
        "                                            aten::empty         0.15%      23.000us         0.15%      23.000us       3.833us             6  \n",
        "                                            aten::zero_         0.03%       5.000us         0.03%       5.000us       2.500us             2  \n",
        "                                              data_load         0.77%     121.000us        99.54%      15.699ms      15.699ms             1  \n",
        "enumerate(DataLoader)#_MultiProcessingDataLoaderIter...        98.10%      15.473ms        98.47%      15.531ms      15.531ms             1  \n",
        "                                               aten::to         0.04%       7.000us         0.04%       7.000us       1.750us             4  \n",
        "                                          aten::detach_         0.08%      12.000us         0.14%      22.000us      11.000us             2  \n",
        "                                                detach_         0.06%      10.000us         0.06%      10.000us       5.000us             2  \n",
        "                                             aten::set_         0.12%      19.000us         0.12%      19.000us       9.500us             2  \n",
        "-------------------------------------------------------  ------------  ------------  ------------  ------------  ------------  ------------  \n",
        "Self CPU time total: 15.772ms\n",
        "\n"
       ]
      }
     ],
     "prompt_number": 10
    },
    {
     "cell_type": "heading",
     "level": 3,
     "metadata": {},
     "source": [
      "8 loaders"
     ]
    },
    {
     "cell_type": "code",
     "collapsed": false,
     "input": [
      "workers = 8\n",
      "sort_string = \"cuda_time_total\"\n",
      "load_data(trainset, workers, sort_string)"
     ],
     "language": "python",
     "metadata": {},
     "outputs": [
      {
       "output_type": "stream",
       "stream": "stdout",
       "text": [
        "-------------------------------------------------------  ------------  ------------  ------------  ------------  ------------  ------------  \n",
        "                                                   Name    Self CPU %      Self CPU   CPU total %     CPU total  CPU time avg    # of Calls  \n",
        "-------------------------------------------------------  ------------  ------------  ------------  ------------  ------------  ------------  \n",
        "                                            aten::zeros         1.06%     131.000us         1.19%     148.000us      74.000us             2  \n",
        "                                            aten::empty         0.41%      51.000us         0.41%      51.000us       8.500us             6  \n",
        "                                            aten::zero_         0.03%       4.000us         0.03%       4.000us       2.000us             2  \n",
        "                                              data_load         1.94%     241.000us        99.22%      12.296ms      12.296ms             1  \n",
        "enumerate(DataLoader)#_MultiProcessingDataLoaderIter...        96.05%      11.904ms        96.78%      11.994ms      11.994ms             1  \n",
        "                                               aten::to         0.07%       9.000us         0.07%       9.000us       2.250us             4  \n",
        "                                          aten::detach_         0.10%      12.000us         0.31%      39.000us      19.500us             2  \n",
        "                                                detach_         0.22%      27.000us         0.22%      27.000us      13.500us             2  \n",
        "                                             aten::set_         0.11%      14.000us         0.11%      14.000us       7.000us             2  \n",
        "-------------------------------------------------------  ------------  ------------  ------------  ------------  ------------  ------------  \n",
        "Self CPU time total: 12.393ms\n",
        "\n"
       ]
      }
     ],
     "prompt_number": 11
    },
    {
     "cell_type": "code",
     "collapsed": false,
     "input": [
      "workers = 8\n",
      "sort_string = \"self_cuda_time_total\"\n",
      "load_data(trainset, workers, sort_string)"
     ],
     "language": "python",
     "metadata": {},
     "outputs": [
      {
       "output_type": "stream",
       "stream": "stdout",
       "text": [
        "-------------------------------------------------------  ------------  ------------  ------------  ------------  ------------  ------------  \n",
        "                                                   Name    Self CPU %      Self CPU   CPU total %     CPU total  CPU time avg    # of Calls  \n",
        "-------------------------------------------------------  ------------  ------------  ------------  ------------  ------------  ------------  \n",
        "                                            aten::zeros         1.43%     143.000us         1.58%     158.000us      79.000us             2  \n",
        "                                            aten::empty         0.48%      48.000us         0.48%      48.000us       8.000us             6  \n",
        "                                            aten::zero_         0.06%       6.000us         0.06%       6.000us       3.000us             2  \n",
        "                                              data_load         1.42%     142.000us        99.14%       9.884ms       9.884ms             1  \n",
        "enumerate(DataLoader)#_MultiProcessingDataLoaderIter...        96.20%       9.591ms        96.92%       9.663ms       9.663ms             1  \n",
        "                                               aten::to         0.06%       6.000us         0.06%       6.000us       1.500us             4  \n",
        "                                          aten::detach_         0.13%      13.000us         0.21%      21.000us      10.500us             2  \n",
        "                                                detach_         0.08%       8.000us         0.08%       8.000us       4.000us             2  \n",
        "                                             aten::set_         0.13%      13.000us         0.13%      13.000us       6.500us             2  \n",
        "-------------------------------------------------------  ------------  ------------  ------------  ------------  ------------  ------------  \n",
        "Self CPU time total: 9.970ms\n",
        "\n"
       ]
      }
     ],
     "prompt_number": 12
    },
    {
     "cell_type": "heading",
     "level": 3,
     "metadata": {},
     "source": [
      "16 loaders"
     ]
    },
    {
     "cell_type": "code",
     "collapsed": false,
     "input": [
      "workers = 16\n",
      "sort_string = \"cuda_time_total\"\n",
      "load_data(trainset, workers, sort_string)"
     ],
     "language": "python",
     "metadata": {},
     "outputs": [
      {
       "output_type": "stream",
       "stream": "stderr",
       "text": [
        "/opt/conda/lib/python3.7/site-packages/torch/utils/data/dataloader.py:481: UserWarning: This DataLoader will create 16 worker processes in total. Our suggested max number of worker in current system is 8, which is smaller than what this DataLoader is going to create. Please be aware that excessive worker creation might get DataLoader running slow or even freeze, lower the worker number to avoid potential slowness/freeze if necessary.\n",
        "  cpuset_checked))\n"
       ]
      },
      {
       "output_type": "stream",
       "stream": "stdout",
       "text": [
        "-------------------------------------------------------  ------------  ------------  ------------  ------------  ------------  ------------  \n",
        "                                                   Name    Self CPU %      Self CPU   CPU total %     CPU total  CPU time avg    # of Calls  \n",
        "-------------------------------------------------------  ------------  ------------  ------------  ------------  ------------  ------------  \n",
        "                                            aten::zeros         1.01%     123.000us         1.16%     141.000us      70.500us             2  \n",
        "                                            aten::empty         0.27%      33.000us         0.27%      33.000us       5.500us             6  \n",
        "                                            aten::zero_         0.06%       7.000us         0.06%       7.000us       3.500us             2  \n",
        "                                              data_load         2.73%     332.000us        99.29%      12.088ms      12.088ms             1  \n",
        "enumerate(DataLoader)#_MultiProcessingDataLoaderIter...        95.54%      11.632ms        96.02%      11.690ms      11.690ms             1  \n",
        "                                               aten::to         0.07%       8.000us         0.07%       8.000us       2.000us             4  \n",
        "                                          aten::detach_         0.11%      13.000us         0.21%      26.000us      13.000us             2  \n",
        "                                                detach_         0.11%      13.000us         0.11%      13.000us       6.500us             2  \n",
        "                                             aten::set_         0.11%      14.000us         0.11%      14.000us       7.000us             2  \n",
        "-------------------------------------------------------  ------------  ------------  ------------  ------------  ------------  ------------  \n",
        "Self CPU time total: 12.175ms\n",
        "\n"
       ]
      }
     ],
     "prompt_number": 13
    },
    {
     "cell_type": "code",
     "collapsed": false,
     "input": [
      "workers = 16\n",
      "sort_string = \"self_cuda_time_total\"\n",
      "load_data(trainset, workers, sort_string)"
     ],
     "language": "python",
     "metadata": {},
     "outputs": [
      {
       "output_type": "stream",
       "stream": "stdout",
       "text": [
        "-------------------------------------------------------  ------------  ------------  ------------  ------------  ------------  ------------  \n",
        "                                                   Name    Self CPU %      Self CPU   CPU total %     CPU total  CPU time avg    # of Calls  \n",
        "-------------------------------------------------------  ------------  ------------  ------------  ------------  ------------  ------------  \n",
        "                                            aten::zeros         0.29%     111.000us         0.32%     125.000us      62.500us             2  \n",
        "                                            aten::empty         0.26%      99.000us         0.26%      99.000us       5.500us            18  \n",
        "                                            aten::zero_         0.01%       4.000us         0.01%       4.000us       2.000us             2  \n",
        "                                              data_load         0.51%     199.000us        99.81%      38.669ms      38.669ms             1  \n",
        "enumerate(DataLoader)#_MultiProcessingDataLoaderIter...        98.17%      38.034ms        99.14%      38.408ms      38.408ms             1  \n",
        "                                               aten::to         0.09%      34.000us         0.09%      34.000us       2.125us            16  \n",
        "                                          aten::detach_         0.25%      95.000us         0.45%     174.000us      12.429us            14  \n",
        "                                                detach_         0.20%      79.000us         0.20%      79.000us       5.643us            14  \n",
        "                                             aten::set_         0.23%      88.000us         0.23%      88.000us       6.286us            14  \n",
        "-------------------------------------------------------  ------------  ------------  ------------  ------------  ------------  ------------  \n",
        "Self CPU time total: 38.743ms\n",
        "\n"
       ]
      }
     ],
     "prompt_number": 14
    }
   ],
   "metadata": {}
  }
 ]
}
