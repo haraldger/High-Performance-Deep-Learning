{
 "metadata": {
  "accelerator": "GPU",
  "colab": {
   "gpuType": "T4",
   "provenance": []
  },
  "gpuClass": "standard",
  "kernelspec": {
   "display_name": "Python 3",
   "name": "python3"
  },
  "language_info": {
   "name": "python"
  },
  "name": ""
 },
 "nbformat": 3,
 "nbformat_minor": 0,
 "worksheets": [
  {
   "cells": [
    {
     "cell_type": "markdown",
     "metadata": {
      "id": "uDb9BLWu4uW-"
     },
     "source": [
      "# Profiling memory loading\n",
      "Another crucial part of training a deep learning model is the dataset, and of course loading the dataset from disk. This task can be parallelized, and we will now investigate how the number of CPU loaders affect the time."
     ]
    },
    {
     "cell_type": "code",
     "collapsed": false,
     "input": [
      "import numpy as np\n",
      "import torch\n",
      "from torch import nn\n",
      "from torch.profiler import profile, record_function, ProfilerActivity\n",
      "import torchvision\n",
      "import torchvision.transforms as transforms"
     ],
     "language": "python",
     "metadata": {
      "id": "W73hMEoHNw_s"
     },
     "outputs": [],
     "prompt_number": 1
    },
    {
     "cell_type": "code",
     "collapsed": false,
     "input": [
      "path = \"./data\"\n",
      "device = torch.device(\"cuda\" if torch.cuda.is_available() else \"cpu\")\n",
      "batch_size = 64"
     ],
     "language": "python",
     "metadata": {
      "id": "itpSTtyAeR8B"
     },
     "outputs": [],
     "prompt_number": 2
    },
    {
     "cell_type": "code",
     "collapsed": false,
     "input": [
      "transform_train = transforms.Compose(\n",
      "    [transforms.ToTensor(),\n",
      "     transforms.Normalize((0.5, 0.5, 0.5), (0.5, 0.5, 0.5))])\n",
      "\n",
      "trainset = torchvision.datasets.CIFAR100(\n",
      "    root=path, train=True, download=True, transform=transform_train)"
     ],
     "language": "python",
     "metadata": {
      "colab": {
       "base_uri": "https://localhost:8080/"
      },
      "id": "yxzlIGeEePat",
      "outputId": "b2545e31-9380-41e9-ff3a-f574625694d8"
     },
     "outputs": [
      {
       "output_type": "stream",
       "stream": "stdout",
       "text": [
        "Files already downloaded and verified\n"
       ]
      }
     ],
     "prompt_number": 3
    },
    {
     "cell_type": "code",
     "collapsed": false,
     "input": [
      "def load_data(dataset, num_workers, sort_string):\n",
      "    trainloader = torch.utils.data.DataLoader(\n",
      "        dataset, batch_size=batch_size, shuffle=True, num_workers=num_workers)\n",
      "    \n",
      "    trainloader_enum = enumerate(trainloader)\n",
      "\n",
      "    with profile(activities=[ProfilerActivity.CPU, ProfilerActivity.CUDA], record_shapes=True) as prof:\n",
      "        with record_function(\"data_load\"):\n",
      "            batch_idx, (inputs, targets) = next(trainloader_enum)\n",
      "            inputs, targets = inputs.to(device), targets.to(device)       \n",
      "\n",
      "    print(prof.key_averages().table(sort_by=sort_string, row_limit=15))"
     ],
     "language": "python",
     "metadata": {
      "id": "kk387JXbeNug"
     },
     "outputs": [],
     "prompt_number": 4
    },
    {
     "cell_type": "heading",
     "level": 3,
     "metadata": {
      "id": "yxwpniRs5qGI"
     },
     "source": [
      "1 Loader"
     ]
    },
    {
     "cell_type": "code",
     "collapsed": false,
     "input": [
      "workers = 1\n",
      "sort_string = \"cuda_time_total\"\n",
      "load_data(trainset, workers, sort_string)"
     ],
     "language": "python",
     "metadata": {
      "colab": {
       "base_uri": "https://localhost:8080/"
      },
      "id": "1LPzBLow4n4_",
      "outputId": "8e3ebf5e-bea4-4979-f947-9c1a7d4e69f4"
     },
     "outputs": [
      {
       "output_type": "stream",
       "stream": "stdout",
       "text": [
        "-------------------------------------------------------  ------------  ------------  ------------  ------------  ------------  ------------  ------------  ------------  ------------  ------------  \n",
        "                                                   Name    Self CPU %      Self CPU   CPU total %     CPU total  CPU time avg     Self CUDA   Self CUDA %    CUDA total  CUDA time avg    # of Calls  \n",
        "-------------------------------------------------------  ------------  ------------  ------------  ------------  ------------  ------------  ------------  ------------  ------------  ------------  \n",
        "                                              data_load         0.08%       4.334ms        99.97%        5.366s        5.366s       0.000us         0.00%      72.000us      72.000us             1  \n",
        "                                               aten::to         0.00%      72.000us        99.46%        5.338s        1.335s       0.000us         0.00%      72.000us      18.000us             4  \n",
        "                                         aten::_to_copy         0.00%      85.000us        99.46%        5.338s        2.669s       0.000us         0.00%      72.000us      36.000us             2  \n",
        "                                            aten::copy_         0.00%      95.000us        94.58%        5.077s        2.538s      72.000us       100.00%      72.000us      36.000us             2  \n",
        "                       Memcpy HtoD (Pageable -> Device)         0.00%       0.000us         0.00%       0.000us       0.000us      72.000us       100.00%      72.000us      36.000us             2  \n",
        "                                            aten::zeros         0.03%       1.586ms         0.03%       1.599ms     799.500us       0.000us         0.00%       0.000us       0.000us             2  \n",
        "                                            aten::empty         0.00%      37.000us         0.00%      37.000us       6.167us       0.000us         0.00%       0.000us       0.000us             6  \n",
        "                                            aten::zero_         0.00%       2.000us         0.00%       2.000us       1.000us       0.000us         0.00%       0.000us       0.000us             2  \n",
        "enumerate(DataLoader)#_MultiProcessingDataLoaderIter...         0.43%      22.841ms         0.43%      22.928ms      22.928ms       0.000us         0.00%       0.000us       0.000us             1  \n",
        "                                             aten::lift         0.00%      14.000us         0.00%      14.000us       7.000us       0.000us         0.00%       0.000us       0.000us             2  \n",
        "                                          aten::detach_         0.00%      11.000us         0.00%      14.000us       7.000us       0.000us         0.00%       0.000us       0.000us             2  \n",
        "                                                detach_         0.00%       3.000us         0.00%       3.000us       1.500us       0.000us         0.00%       0.000us       0.000us             2  \n",
        "                                             aten::set_         0.00%      34.000us         0.00%      34.000us      17.000us       0.000us         0.00%       0.000us       0.000us             2  \n",
        "                                     cudaGetDeviceCount         0.00%       2.000us         0.00%       2.000us       2.000us       0.000us         0.00%       0.000us       0.000us             1  \n",
        "                                cudaGetDeviceProperties         0.00%     195.000us         0.00%     195.000us     195.000us       0.000us         0.00%       0.000us       0.000us             1  \n",
        "-------------------------------------------------------  ------------  ------------  ------------  ------------  ------------  ------------  ------------  ------------  ------------  ------------  \n",
        "Self CPU time total: 5.367s\n",
        "Self CUDA time total: 72.000us\n",
        "\n"
       ]
      }
     ],
     "prompt_number": 5
    },
    {
     "cell_type": "code",
     "collapsed": false,
     "input": [
      "workers = 1\n",
      "sort_string = \"self_cuda_time_total\"\n",
      "load_data(trainset, workers, sort_string)"
     ],
     "language": "python",
     "metadata": {
      "id": "xrmOKBo-5zJZ"
     },
     "outputs": [
      {
       "output_type": "stream",
       "stream": "stdout",
       "text": [
        "-------------------------------------------------------  ------------  ------------  ------------  ------------  ------------  ------------  ------------  ------------  ------------  ------------  \n",
        "                                                   Name    Self CPU %      Self CPU   CPU total %     CPU total  CPU time avg     Self CUDA   Self CUDA %    CUDA total  CUDA time avg    # of Calls  \n",
        "-------------------------------------------------------  ------------  ------------  ------------  ------------  ------------  ------------  ------------  ------------  ------------  ------------  \n",
        "                                            aten::copy_         0.12%      38.000us         5.00%       1.641ms     820.500us      75.000us       100.00%      75.000us      37.500us             2  \n",
        "                       Memcpy HtoD (Pageable -> Device)         0.00%       0.000us         0.00%       0.000us       0.000us      75.000us       100.00%      75.000us      37.500us             2  \n",
        "                                            aten::zeros         0.20%      67.000us         0.27%      90.000us      45.000us       0.000us         0.00%       0.000us       0.000us             2  \n",
        "                                            aten::empty         0.19%      62.000us         0.19%      62.000us      10.333us       0.000us         0.00%       0.000us       0.000us             6  \n",
        "                                            aten::zero_         0.01%       2.000us         0.01%       2.000us       1.000us       0.000us         0.00%       0.000us       0.000us             2  \n",
        "                                              data_load         0.52%     170.000us        99.71%      32.754ms      32.754ms       0.000us         0.00%      75.000us      75.000us             1  \n",
        "enumerate(DataLoader)#_MultiProcessingDataLoaderIter...        91.32%      29.999ms        91.54%      30.070ms      30.070ms       0.000us         0.00%       0.000us       0.000us             1  \n",
        "                                               aten::to         2.28%     748.000us         7.58%       2.489ms     622.250us       0.000us         0.00%      75.000us      18.750us             4  \n",
        "                                             aten::lift         0.02%       5.000us         0.02%       5.000us       2.500us       0.000us         0.00%       0.000us       0.000us             2  \n",
        "                                          aten::detach_         0.05%      16.000us         0.06%      19.000us       9.500us       0.000us         0.00%       0.000us       0.000us             2  \n",
        "                                                detach_         0.01%       3.000us         0.01%       3.000us       1.500us       0.000us         0.00%       0.000us       0.000us             2  \n",
        "                                             aten::set_         0.03%       9.000us         0.03%       9.000us       4.500us       0.000us         0.00%       0.000us       0.000us             2  \n",
        "                                         aten::_to_copy         0.09%      28.000us         5.30%       1.741ms     870.500us       0.000us         0.00%      75.000us      37.500us             2  \n",
        "                                    aten::empty_strided         0.22%      72.000us         0.22%      72.000us      36.000us       0.000us         0.00%       0.000us       0.000us             2  \n",
        "                                        cudaMemcpyAsync         4.63%       1.520ms         4.63%       1.520ms     760.000us       0.000us         0.00%       0.000us       0.000us             2  \n",
        "-------------------------------------------------------  ------------  ------------  ------------  ------------  ------------  ------------  ------------  ------------  ------------  ------------  \n",
        "Self CPU time total: 32.849ms\n",
        "Self CUDA time total: 75.000us\n",
        "\n"
       ]
      }
     ],
     "prompt_number": 6
    },
    {
     "cell_type": "heading",
     "level": 3,
     "metadata": {},
     "source": [
      "2 loaders"
     ]
    },
    {
     "cell_type": "code",
     "collapsed": false,
     "input": [
      "workers = 2\n",
      "sort_string = \"cuda_time_total\"\n",
      "load_data(trainset, workers, sort_string)"
     ],
     "language": "python",
     "metadata": {},
     "outputs": [
      {
       "output_type": "stream",
       "stream": "stdout",
       "text": [
        "-------------------------------------------------------  ------------  ------------  ------------  ------------  ------------  ------------  ------------  ------------  ------------  ------------  \n",
        "                                                   Name    Self CPU %      Self CPU   CPU total %     CPU total  CPU time avg     Self CUDA   Self CUDA %    CUDA total  CUDA time avg    # of Calls  \n",
        "-------------------------------------------------------  ------------  ------------  ------------  ------------  ------------  ------------  ------------  ------------  ------------  ------------  \n",
        "                                              data_load         0.80%     227.000us        99.76%      28.350ms      28.350ms       0.000us         0.00%      72.000us      72.000us             1  \n",
        "                                               aten::to         1.18%     334.000us        16.10%       4.575ms       1.144ms       0.000us         0.00%      72.000us      18.000us             4  \n",
        "                                         aten::_to_copy         0.09%      26.000us        14.92%       4.241ms       2.120ms       0.000us         0.00%      72.000us      36.000us             2  \n",
        "                                            aten::copy_         0.16%      45.000us        14.54%       4.132ms       2.066ms      72.000us       100.00%      72.000us      36.000us             2  \n",
        "                       Memcpy HtoD (Pageable -> Device)         0.00%       0.000us         0.00%       0.000us       0.000us      72.000us       100.00%      72.000us      36.000us             2  \n",
        "                                            aten::zeros         0.13%      37.000us         0.18%      50.000us      25.000us       0.000us         0.00%       0.000us       0.000us             2  \n",
        "                                            aten::empty         0.10%      29.000us         0.10%      29.000us       4.833us       0.000us         0.00%       0.000us       0.000us             6  \n",
        "                                            aten::zero_         0.01%       2.000us         0.01%       2.000us       1.000us       0.000us         0.00%       0.000us       0.000us             2  \n",
        "enumerate(DataLoader)#_MultiProcessingDataLoaderIter...        82.66%      23.489ms        82.80%      23.529ms      23.529ms       0.000us         0.00%       0.000us       0.000us             1  \n",
        "                                             aten::lift         0.02%       6.000us         0.02%       6.000us       3.000us       0.000us         0.00%       0.000us       0.000us             2  \n",
        "                                          aten::detach_         0.02%       7.000us         0.03%       9.000us       4.500us       0.000us         0.00%       0.000us       0.000us             2  \n",
        "                                                detach_         0.01%       2.000us         0.01%       2.000us       1.000us       0.000us         0.00%       0.000us       0.000us             2  \n",
        "                                             aten::set_         0.04%      10.000us         0.04%      10.000us       5.000us       0.000us         0.00%       0.000us       0.000us             2  \n",
        "                                    aten::empty_strided         0.29%      83.000us         0.29%      83.000us      41.500us       0.000us         0.00%       0.000us       0.000us             2  \n",
        "                                        cudaMemcpyAsync        14.05%       3.993ms        14.05%       3.993ms       1.996ms       0.000us         0.00%       0.000us       0.000us             2  \n",
        "-------------------------------------------------------  ------------  ------------  ------------  ------------  ------------  ------------  ------------  ------------  ------------  ------------  \n",
        "Self CPU time total: 28.418ms\n",
        "Self CUDA time total: 72.000us\n",
        "\n"
       ]
      }
     ],
     "prompt_number": 7
    },
    {
     "cell_type": "code",
     "collapsed": false,
     "input": [
      "workers = 2\n",
      "sort_string = \"self_cuda_time_total\"\n",
      "load_data(trainset, workers, sort_string)"
     ],
     "language": "python",
     "metadata": {},
     "outputs": [
      {
       "output_type": "stream",
       "stream": "stdout",
       "text": [
        "-------------------------------------------------------  ------------  ------------  ------------  ------------  ------------  ------------  ------------  ------------  ------------  ------------  \n",
        "                                                   Name    Self CPU %      Self CPU   CPU total %     CPU total  CPU time avg     Self CUDA   Self CUDA %    CUDA total  CUDA time avg    # of Calls  \n",
        "-------------------------------------------------------  ------------  ------------  ------------  ------------  ------------  ------------  ------------  ------------  ------------  ------------  \n",
        "                                            aten::copy_         0.09%      38.000us         8.80%       3.587ms       1.794ms      72.000us       100.00%      72.000us      36.000us             2  \n",
        "                       Memcpy HtoD (Pageable -> Device)         0.00%       0.000us         0.00%       0.000us       0.000us      72.000us       100.00%      72.000us      36.000us             2  \n",
        "                                            aten::zeros         0.13%      51.000us         0.16%      65.000us      32.500us       0.000us         0.00%       0.000us       0.000us             2  \n",
        "                                            aten::empty         0.07%      27.000us         0.07%      27.000us       4.500us       0.000us         0.00%       0.000us       0.000us             6  \n",
        "                                            aten::zero_         0.01%       3.000us         0.01%       3.000us       1.500us       0.000us         0.00%       0.000us       0.000us             2  \n",
        "                                              data_load         0.48%     196.000us        99.82%      40.706ms      40.706ms       0.000us         0.00%      72.000us      72.000us             1  \n",
        "enumerate(DataLoader)#_MultiProcessingDataLoaderIter...        88.57%      36.118ms        88.65%      36.150ms      36.150ms       0.000us         0.00%       0.000us       0.000us             1  \n",
        "                                               aten::to         1.61%     657.000us        10.63%       4.333ms       1.083ms       0.000us         0.00%      72.000us      18.000us             4  \n",
        "                                             aten::lift         0.01%       5.000us         0.01%       5.000us       2.500us       0.000us         0.00%       0.000us       0.000us             2  \n",
        "                                          aten::detach_         0.01%       3.000us         0.01%       6.000us       3.000us       0.000us         0.00%       0.000us       0.000us             2  \n",
        "                                                detach_         0.01%       3.000us         0.01%       3.000us       1.500us       0.000us         0.00%       0.000us       0.000us             2  \n",
        "                                             aten::set_         0.02%       9.000us         0.02%       9.000us       4.500us       0.000us         0.00%       0.000us       0.000us             2  \n",
        "                                         aten::_to_copy         0.06%      25.000us         9.01%       3.676ms       1.838ms       0.000us         0.00%      72.000us      36.000us             2  \n",
        "                                    aten::empty_strided         0.16%      64.000us         0.16%      64.000us      32.000us       0.000us         0.00%       0.000us       0.000us             2  \n",
        "                                        cudaMemcpyAsync         8.50%       3.467ms         8.50%       3.467ms       1.734ms       0.000us         0.00%       0.000us       0.000us             2  \n",
        "-------------------------------------------------------  ------------  ------------  ------------  ------------  ------------  ------------  ------------  ------------  ------------  ------------  \n",
        "Self CPU time total: 40.779ms\n",
        "Self CUDA time total: 72.000us\n",
        "\n"
       ]
      }
     ],
     "prompt_number": 8
    },
    {
     "cell_type": "heading",
     "level": 3,
     "metadata": {},
     "source": [
      "4 loaders"
     ]
    },
    {
     "cell_type": "code",
     "collapsed": false,
     "input": [
      "workers = 4\n",
      "sort_string = \"cuda_time_total\"\n",
      "load_data(trainset, workers, sort_string)"
     ],
     "language": "python",
     "metadata": {},
     "outputs": [
      {
       "output_type": "stream",
       "stream": "stdout",
       "text": [
        "-------------------------------------------------------  ------------  ------------  ------------  ------------  ------------  ------------  ------------  ------------  ------------  ------------  \n",
        "                                                   Name    Self CPU %      Self CPU   CPU total %     CPU total  CPU time avg     Self CUDA   Self CUDA %    CUDA total  CUDA time avg    # of Calls  \n",
        "-------------------------------------------------------  ------------  ------------  ------------  ------------  ------------  ------------  ------------  ------------  ------------  ------------  \n",
        "                                              data_load         0.41%     207.000us        99.85%      50.719ms      50.719ms       0.000us         0.00%      73.000us      73.000us             1  \n",
        "                                               aten::to         0.68%     344.000us         8.59%       4.364ms       1.091ms       0.000us         0.00%      73.000us      18.250us             4  \n",
        "                                         aten::_to_copy         0.05%      27.000us         7.91%       4.020ms       2.010ms       0.000us         0.00%      73.000us      36.500us             2  \n",
        "                                            aten::copy_         0.09%      45.000us         7.72%       3.923ms       1.962ms      73.000us       100.00%      73.000us      36.500us             2  \n",
        "                       Memcpy HtoD (Pageable -> Device)         0.00%       0.000us         0.00%       0.000us       0.000us      73.000us       100.00%      73.000us      36.500us             2  \n",
        "                                            aten::zeros         0.09%      46.000us         0.11%      58.000us      29.000us       0.000us         0.00%       0.000us       0.000us             2  \n",
        "                                            aten::empty         1.00%     508.000us         1.00%     508.000us      84.667us       0.000us         0.00%       0.000us       0.000us             6  \n",
        "                                            aten::zero_         0.01%       3.000us         0.01%       3.000us       1.500us       0.000us         0.00%       0.000us       0.000us             2  \n",
        "enumerate(DataLoader)#_MultiProcessingDataLoaderIter...        89.80%      45.616ms        90.76%      46.103ms      46.103ms       0.000us         0.00%       0.000us       0.000us             1  \n",
        "                                             aten::lift         0.01%       5.000us         0.01%       5.000us       2.500us       0.000us         0.00%       0.000us       0.000us             2  \n",
        "                                          aten::detach_         0.01%       5.000us         0.02%       8.000us       4.000us       0.000us         0.00%       0.000us       0.000us             2  \n",
        "                                                detach_         0.01%       3.000us         0.01%       3.000us       1.500us       0.000us         0.00%       0.000us       0.000us             2  \n",
        "                                             aten::set_         0.02%       9.000us         0.02%       9.000us       4.500us       0.000us         0.00%       0.000us       0.000us             2  \n",
        "                                    aten::empty_strided         0.14%      70.000us         0.14%      70.000us      35.000us       0.000us         0.00%       0.000us       0.000us             2  \n",
        "                                        cudaMemcpyAsync         7.48%       3.797ms         7.48%       3.797ms       1.899ms       0.000us         0.00%       0.000us       0.000us             2  \n",
        "-------------------------------------------------------  ------------  ------------  ------------  ------------  ------------  ------------  ------------  ------------  ------------  ------------  \n",
        "Self CPU time total: 50.795ms\n",
        "Self CUDA time total: 73.000us\n",
        "\n"
       ]
      }
     ],
     "prompt_number": 9
    },
    {
     "cell_type": "code",
     "collapsed": false,
     "input": [
      "workers = 4\n",
      "sort_string = \"self_cuda_time_total\"\n",
      "load_data(trainset, workers, sort_string)"
     ],
     "language": "python",
     "metadata": {},
     "outputs": [
      {
       "output_type": "stream",
       "stream": "stdout",
       "text": [
        "-------------------------------------------------------  ------------  ------------  ------------  ------------  ------------  ------------  ------------  ------------  ------------  ------------  \n",
        "                                                   Name    Self CPU %      Self CPU   CPU total %     CPU total  CPU time avg     Self CUDA   Self CUDA %    CUDA total  CUDA time avg    # of Calls  \n",
        "-------------------------------------------------------  ------------  ------------  ------------  ------------  ------------  ------------  ------------  ------------  ------------  ------------  \n",
        "                                            aten::copy_         0.17%      49.000us        16.54%       4.708ms       2.354ms      75.000us       100.00%      75.000us      37.500us             2  \n",
        "                       Memcpy HtoD (Pageable -> Device)         0.00%       0.000us         0.00%       0.000us       0.000us      75.000us       100.00%      75.000us      37.500us             2  \n",
        "                                            aten::zeros         0.20%      56.000us         0.23%      66.000us      33.000us       0.000us         0.00%       0.000us       0.000us             2  \n",
        "                                            aten::empty         0.09%      26.000us         0.09%      26.000us       4.333us       0.000us         0.00%       0.000us       0.000us             6  \n",
        "                                            aten::zero_         0.01%       2.000us         0.01%       2.000us       1.000us       0.000us         0.00%       0.000us       0.000us             2  \n",
        "                                              data_load         0.87%     249.000us        99.68%      28.371ms      28.371ms       0.000us         0.00%      75.000us      75.000us             1  \n",
        "enumerate(DataLoader)#_MultiProcessingDataLoaderIter...        79.21%      22.543ms        79.35%      22.583ms      22.583ms       0.000us         0.00%       0.000us       0.000us             1  \n",
        "                                               aten::to         2.38%     678.000us        19.38%       5.516ms       1.379ms       0.000us         0.00%      75.000us      18.750us             4  \n",
        "                                             aten::lift         0.01%       4.000us         0.01%       4.000us       2.000us       0.000us         0.00%       0.000us       0.000us             2  \n",
        "                                          aten::detach_         0.03%       8.000us         0.04%      11.000us       5.500us       0.000us         0.00%       0.000us       0.000us             2  \n",
        "                                                detach_         0.01%       3.000us         0.01%       3.000us       1.500us       0.000us         0.00%       0.000us       0.000us             2  \n",
        "                                             aten::set_         0.04%      11.000us         0.04%      11.000us       5.500us       0.000us         0.00%       0.000us       0.000us             2  \n",
        "                                         aten::_to_copy         0.12%      35.000us        17.00%       4.838ms       2.419ms       0.000us         0.00%      75.000us      37.500us             2  \n",
        "                                    aten::empty_strided         0.33%      95.000us         0.33%      95.000us      47.500us       0.000us         0.00%       0.000us       0.000us             2  \n",
        "                                        cudaMemcpyAsync        16.07%       4.575ms        16.07%       4.575ms       2.288ms       0.000us         0.00%       0.000us       0.000us             2  \n",
        "-------------------------------------------------------  ------------  ------------  ------------  ------------  ------------  ------------  ------------  ------------  ------------  ------------  \n",
        "Self CPU time total: 28.461ms\n",
        "Self CUDA time total: 75.000us\n",
        "\n"
       ]
      }
     ],
     "prompt_number": 10
    },
    {
     "cell_type": "heading",
     "level": 3,
     "metadata": {},
     "source": [
      "8 loaders"
     ]
    },
    {
     "cell_type": "code",
     "collapsed": false,
     "input": [
      "workers = 8\n",
      "sort_string = \"cuda_time_total\"\n",
      "load_data(trainset, workers, sort_string)"
     ],
     "language": "python",
     "metadata": {},
     "outputs": [
      {
       "output_type": "stream",
       "stream": "stdout",
       "text": [
        "-------------------------------------------------------  ------------  ------------  ------------  ------------  ------------  ------------  ------------  ------------  ------------  ------------  \n",
        "                                                   Name    Self CPU %      Self CPU   CPU total %     CPU total  CPU time avg     Self CUDA   Self CUDA %    CUDA total  CUDA time avg    # of Calls  \n",
        "-------------------------------------------------------  ------------  ------------  ------------  ------------  ------------  ------------  ------------  ------------  ------------  ------------  \n",
        "                                              data_load         1.67%     253.000us        99.52%      15.049ms      15.049ms       0.000us         0.00%      71.000us      71.000us             1  \n",
        "                                               aten::to        10.51%       1.589ms        35.33%       5.342ms       1.335ms       0.000us         0.00%      71.000us      17.750us             4  \n",
        "                                         aten::_to_copy         0.24%      37.000us        24.82%       3.753ms       1.877ms       0.000us         0.00%      71.000us      35.500us             2  \n",
        "                                            aten::copy_         0.29%      44.000us        23.94%       3.620ms       1.810ms      71.000us       100.00%      71.000us      35.500us             2  \n",
        "                       Memcpy HtoD (Pageable -> Device)         0.00%       0.000us         0.00%       0.000us       0.000us      71.000us       100.00%      71.000us      35.500us             2  \n",
        "                                            aten::zeros         0.50%      76.000us         0.58%      87.000us      43.500us       0.000us         0.00%       0.000us       0.000us             2  \n",
        "                                            aten::empty         0.19%      28.000us         0.19%      28.000us       4.667us       0.000us         0.00%       0.000us       0.000us             6  \n",
        "                                            aten::zero_         0.02%       3.000us         0.02%       3.000us       1.500us       0.000us         0.00%       0.000us       0.000us             2  \n",
        "enumerate(DataLoader)#_MultiProcessingDataLoaderIter...        61.92%       9.363ms        62.17%       9.400ms       9.400ms       0.000us         0.00%       0.000us       0.000us             1  \n",
        "                                             aten::lift         0.03%       5.000us         0.03%       5.000us       2.500us       0.000us         0.00%       0.000us       0.000us             2  \n",
        "                                          aten::detach_         0.06%       9.000us         0.07%      11.000us       5.500us       0.000us         0.00%       0.000us       0.000us             2  \n",
        "                                                detach_         0.01%       2.000us         0.01%       2.000us       1.000us       0.000us         0.00%       0.000us       0.000us             2  \n",
        "                                             aten::set_         0.06%       9.000us         0.06%       9.000us       4.500us       0.000us         0.00%       0.000us       0.000us             2  \n",
        "                                    aten::empty_strided         0.63%      96.000us         0.63%      96.000us      48.000us       0.000us         0.00%       0.000us       0.000us             2  \n",
        "                                        cudaMemcpyAsync        23.11%       3.494ms        23.11%       3.494ms       1.747ms       0.000us         0.00%       0.000us       0.000us             2  \n",
        "-------------------------------------------------------  ------------  ------------  ------------  ------------  ------------  ------------  ------------  ------------  ------------  ------------  \n",
        "Self CPU time total: 15.121ms\n",
        "Self CUDA time total: 71.000us\n",
        "\n"
       ]
      }
     ],
     "prompt_number": 11
    },
    {
     "cell_type": "code",
     "collapsed": false,
     "input": [
      "workers = 8\n",
      "sort_string = \"self_cuda_time_total\"\n",
      "load_data(trainset, workers, sort_string)"
     ],
     "language": "python",
     "metadata": {},
     "outputs": [
      {
       "output_type": "stream",
       "stream": "stdout",
       "text": [
        "-------------------------------------------------------  ------------  ------------  ------------  ------------  ------------  ------------  ------------  ------------  ------------  ------------  \n",
        "                                                   Name    Self CPU %      Self CPU   CPU total %     CPU total  CPU time avg     Self CUDA   Self CUDA %    CUDA total  CUDA time avg    # of Calls  \n",
        "-------------------------------------------------------  ------------  ------------  ------------  ------------  ------------  ------------  ------------  ------------  ------------  ------------  \n",
        "                                            aten::copy_         0.34%      58.000us        22.51%       3.880ms       1.940ms      75.000us       100.00%      75.000us      37.500us             2  \n",
        "                       Memcpy HtoD (Pageable -> Device)         0.00%       0.000us         0.00%       0.000us       0.000us      75.000us       100.00%      75.000us      37.500us             2  \n",
        "                                            aten::zeros         0.27%      46.000us         0.31%      54.000us      27.000us       0.000us         0.00%       0.000us       0.000us             2  \n",
        "                                            aten::empty         0.12%      21.000us         0.12%      21.000us       3.500us       0.000us         0.00%       0.000us       0.000us             6  \n",
        "                                            aten::zero_         0.01%       1.000us         0.01%       1.000us       0.500us       0.000us         0.00%       0.000us       0.000us             2  \n",
        "                                              data_load         1.40%     241.000us        99.58%      17.168ms      17.168ms       0.000us         0.00%      75.000us      75.000us             1  \n",
        "enumerate(DataLoader)#_MultiProcessingDataLoaderIter...        64.04%      11.040ms        64.29%      11.083ms      11.083ms       0.000us         0.00%       0.000us       0.000us             1  \n",
        "                                               aten::to        10.40%       1.793ms        33.79%       5.826ms       1.456ms       0.000us         0.00%      75.000us      18.750us             4  \n",
        "                                             aten::lift         0.03%       6.000us         0.03%       6.000us       3.000us       0.000us         0.00%       0.000us       0.000us             2  \n",
        "                                          aten::detach_         0.06%      11.000us         0.09%      15.000us       7.500us       0.000us         0.00%       0.000us       0.000us             2  \n",
        "                                                detach_         0.02%       4.000us         0.02%       4.000us       2.000us       0.000us         0.00%       0.000us       0.000us             2  \n",
        "                                             aten::set_         0.06%      10.000us         0.06%      10.000us       5.000us       0.000us         0.00%       0.000us       0.000us             2  \n",
        "                                         aten::_to_copy         0.19%      33.000us        23.39%       4.033ms       2.017ms       0.000us         0.00%      75.000us      37.500us             2  \n",
        "                                    aten::empty_strided         0.70%     120.000us         0.70%     120.000us      60.000us       0.000us         0.00%       0.000us       0.000us             2  \n",
        "                                        cudaMemcpyAsync        21.68%       3.738ms        21.68%       3.738ms       1.869ms       0.000us         0.00%       0.000us       0.000us             2  \n",
        "-------------------------------------------------------  ------------  ------------  ------------  ------------  ------------  ------------  ------------  ------------  ------------  ------------  \n",
        "Self CPU time total: 17.240ms\n",
        "Self CUDA time total: 75.000us\n",
        "\n"
       ]
      }
     ],
     "prompt_number": 12
    },
    {
     "cell_type": "heading",
     "level": 3,
     "metadata": {},
     "source": [
      "16 loaders"
     ]
    },
    {
     "cell_type": "code",
     "collapsed": false,
     "input": [
      "workers = 16\n",
      "sort_string = \"cuda_time_total\"\n",
      "load_data(trainset, workers, sort_string)"
     ],
     "language": "python",
     "metadata": {},
     "outputs": [
      {
       "output_type": "stream",
       "stream": "stderr",
       "text": [
        "/opt/conda/lib/python3.7/site-packages/torch/utils/data/dataloader.py:560: UserWarning: This DataLoader will create 16 worker processes in total. Our suggested max number of worker in current system is 8, which is smaller than what this DataLoader is going to create. Please be aware that excessive worker creation might get DataLoader running slow or even freeze, lower the worker number to avoid potential slowness/freeze if necessary.\n",
        "  cpuset_checked))\n"
       ]
      },
      {
       "output_type": "stream",
       "stream": "stdout",
       "text": [
        "-------------------------------------------------------  ------------  ------------  ------------  ------------  ------------  ------------  ------------  ------------  ------------  ------------  \n",
        "                                                   Name    Self CPU %      Self CPU   CPU total %     CPU total  CPU time avg     Self CUDA   Self CUDA %    CUDA total  CUDA time avg    # of Calls  \n",
        "-------------------------------------------------------  ------------  ------------  ------------  ------------  ------------  ------------  ------------  ------------  ------------  ------------  \n",
        "                                              data_load        10.83%       5.393ms        99.88%      49.758ms      49.758ms       0.000us         0.00%      72.000us      72.000us             1  \n",
        "                                               aten::to         3.07%       1.529ms         7.86%       3.917ms     979.250us       0.000us         0.00%      72.000us      18.000us             4  \n",
        "                                         aten::_to_copy         0.05%      26.000us         4.79%       2.388ms       1.194ms       0.000us         0.00%      72.000us      36.000us             2  \n",
        "                                            aten::copy_         0.09%      44.000us         4.56%       2.273ms       1.137ms      72.000us       100.00%      72.000us      36.000us             2  \n",
        "                       Memcpy HtoD (Pageable -> Device)         0.00%       0.000us         0.00%       0.000us       0.000us      72.000us       100.00%      72.000us      36.000us             2  \n",
        "                                            aten::zeros         0.18%      88.000us         0.20%     101.000us      50.500us       0.000us         0.00%       0.000us       0.000us             2  \n",
        "                                            aten::empty         0.06%      31.000us         0.06%      31.000us       5.167us       0.000us         0.00%       0.000us       0.000us             6  \n",
        "                                            aten::zero_         0.01%       3.000us         0.01%       3.000us       1.500us       0.000us         0.00%       0.000us       0.000us             2  \n",
        "enumerate(DataLoader)#_MultiProcessingDataLoaderIter...        80.99%      40.346ms        81.07%      40.386ms      40.386ms       0.000us         0.00%       0.000us       0.000us             1  \n",
        "                                             aten::lift         0.01%       5.000us         0.01%       5.000us       2.500us       0.000us         0.00%       0.000us       0.000us             2  \n",
        "                                          aten::detach_         0.01%       6.000us         0.02%       9.000us       4.500us       0.000us         0.00%       0.000us       0.000us             2  \n",
        "                                                detach_         0.01%       3.000us         0.01%       3.000us       1.500us       0.000us         0.00%       0.000us       0.000us             2  \n",
        "                                             aten::set_         0.02%      11.000us         0.02%      11.000us       5.500us       0.000us         0.00%       0.000us       0.000us             2  \n",
        "                                    aten::empty_strided         0.18%      89.000us         0.18%      89.000us      44.500us       0.000us         0.00%       0.000us       0.000us             2  \n",
        "                                        cudaMemcpyAsync         4.31%       2.147ms         4.31%       2.147ms       1.073ms       0.000us         0.00%       0.000us       0.000us             2  \n",
        "-------------------------------------------------------  ------------  ------------  ------------  ------------  ------------  ------------  ------------  ------------  ------------  ------------  \n",
        "Self CPU time total: 49.817ms\n",
        "Self CUDA time total: 72.000us\n",
        "\n"
       ]
      }
     ],
     "prompt_number": 13
    },
    {
     "cell_type": "code",
     "collapsed": false,
     "input": [
      "workers = 16\n",
      "sort_string = \"self_cuda_time_total\"\n",
      "load_data(trainset, workers, sort_string)"
     ],
     "language": "python",
     "metadata": {},
     "outputs": [
      {
       "output_type": "stream",
       "stream": "stdout",
       "text": [
        "-------------------------------------------------------  ------------  ------------  ------------  ------------  ------------  ------------  ------------  ------------  ------------  ------------  \n",
        "                                                   Name    Self CPU %      Self CPU   CPU total %     CPU total  CPU time avg     Self CUDA   Self CUDA %    CUDA total  CUDA time avg    # of Calls  \n",
        "-------------------------------------------------------  ------------  ------------  ------------  ------------  ------------  ------------  ------------  ------------  ------------  ------------  \n",
        "                                            aten::copy_         0.14%      48.000us        12.08%       3.998ms       1.999ms      74.000us       100.00%      74.000us      37.000us             2  \n",
        "                       Memcpy HtoD (Pageable -> Device)         0.00%       0.000us         0.00%       0.000us       0.000us      74.000us       100.00%      74.000us      37.000us             2  \n",
        "                                            aten::zeros         0.20%      67.000us         0.24%      78.000us      39.000us       0.000us         0.00%       0.000us       0.000us             2  \n",
        "                                            aten::empty         0.09%      31.000us         0.09%      31.000us       5.167us       0.000us         0.00%       0.000us       0.000us             6  \n",
        "                                            aten::zero_         0.01%       2.000us         0.01%       2.000us       1.000us       0.000us         0.00%       0.000us       0.000us             2  \n",
        "                                              data_load        46.76%      15.478ms        99.77%      33.027ms      33.027ms       0.000us         0.00%      74.000us      74.000us             1  \n",
        "enumerate(DataLoader)#_MultiProcessingDataLoaderIter...        34.65%      11.472ms        34.80%      11.521ms      11.521ms       0.000us         0.00%       0.000us       0.000us             1  \n",
        "                                               aten::to         5.56%       1.840ms        18.09%       5.990ms       1.498ms       0.000us         0.00%      74.000us      18.500us             4  \n",
        "                                             aten::lift         0.02%       6.000us         0.02%       6.000us       3.000us       0.000us         0.00%       0.000us       0.000us             2  \n",
        "                                          aten::detach_         0.02%       8.000us         0.04%      12.000us       6.000us       0.000us         0.00%       0.000us       0.000us             2  \n",
        "                                                detach_         0.01%       4.000us         0.01%       4.000us       2.000us       0.000us         0.00%       0.000us       0.000us             2  \n",
        "                                             aten::set_         0.04%      12.000us         0.04%      12.000us       6.000us       0.000us         0.00%       0.000us       0.000us             2  \n",
        "                                         aten::_to_copy         0.10%      32.000us        12.54%       4.150ms       2.075ms       0.000us         0.00%      74.000us      37.000us             2  \n",
        "                                    aten::empty_strided         0.36%     120.000us         0.36%     120.000us      60.000us       0.000us         0.00%       0.000us       0.000us             2  \n",
        "                                        cudaMemcpyAsync        11.68%       3.867ms        11.68%       3.867ms       1.933ms       0.000us         0.00%       0.000us       0.000us             2  \n",
        "-------------------------------------------------------  ------------  ------------  ------------  ------------  ------------  ------------  ------------  ------------  ------------  ------------  \n",
        "Self CPU time total: 33.104ms\n",
        "Self CUDA time total: 74.000us\n",
        "\n"
       ]
      }
     ],
     "prompt_number": 14
    }
   ],
   "metadata": {}
  }
 ]
}
