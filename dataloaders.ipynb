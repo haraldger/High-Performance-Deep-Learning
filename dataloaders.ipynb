{
  "cells": [
    {
      "cell_type": "markdown",
      "metadata": {
        "id": "uDb9BLWu4uW-"
      },
      "source": [
        "# Profiling memory loading\n",
        "Another crucial part of training a deep learning model is the dataset, and of course loading the dataset from disk. This task can be parallelized, and we will now investigate how the number of CPU loaders affect the time."
      ]
    },
    {
      "cell_type": "code",
      "execution_count": 5,
      "metadata": {
        "id": "W73hMEoHNw_s"
      },
      "outputs": [],
      "source": [
        "import numpy as np\n",
        "import torch\n",
        "from torch import nn\n",
        "from torch.profiler import profile, record_function, ProfilerActivity\n",
        "import torchvision\n",
        "import torchvision.transforms as transforms"
      ]
    },
    {
      "cell_type": "code",
      "execution_count": 6,
      "metadata": {
        "id": "itpSTtyAeR8B"
      },
      "outputs": [],
      "source": [
        "path = \"./data\"\n",
        "device = torch.device(\"cuda\" if torch.cuda.is_available() else \"cpu\")\n",
        "batch_size = 64"
      ]
    },
    {
      "cell_type": "code",
      "execution_count": 7,
      "metadata": {
        "colab": {
          "base_uri": "https://localhost:8080/"
        },
        "id": "yxzlIGeEePat",
        "outputId": "b2545e31-9380-41e9-ff3a-f574625694d8"
      },
      "outputs": [
        {
          "name": "stdout",
          "output_type": "stream",
          "text": [
            "Downloading https://www.cs.toronto.edu/~kriz/cifar-100-python.tar.gz to ./data/cifar-100-python.tar.gz\n"
          ]
        },
        {
          "name": "stderr",
          "output_type": "stream",
          "text": [
            "100%|██████████| 169001437/169001437 [00:03<00:00, 48075102.93it/s]\n"
          ]
        },
        {
          "name": "stdout",
          "output_type": "stream",
          "text": [
            "Extracting ./data/cifar-100-python.tar.gz to ./data\n"
          ]
        }
      ],
      "source": [
        "transform_train = transforms.Compose(\n",
        "    [transforms.ToTensor(),\n",
        "     transforms.Normalize((0.5, 0.5, 0.5), (0.5, 0.5, 0.5))])\n",
        "\n",
        "trainset = torchvision.datasets.CIFAR100(\n",
        "    root=path, train=True, download=True, transform=transform_train)"
      ]
    },
    {
      "cell_type": "code",
      "execution_count": 8,
      "metadata": {
        "id": "kk387JXbeNug"
      },
      "outputs": [],
      "source": [
        "def load_data(dataset, num_workers, sort_string):\n",
        "    trainloader = torch.utils.data.DataLoader(\n",
        "        dataset, batch_size=batch_size, shuffle=True, num_workers=num_workers)\n",
        "    \n",
        "    trainloader_enum = enumerate(trainloader)\n",
        "\n",
        "    with profile(activities=[ProfilerActivity.CPU, ProfilerActivity.CUDA], record_shapes=True) as prof:\n",
        "        with record_function(\"data_load\"):\n",
        "            batch_idx, (inputs, targets) = next(trainloader_enum)\n",
        "            inputs, targets = inputs.to(device), targets.to(device)       \n",
        "\n",
        "    print(prof.key_averages().table(sort_by=sort_string, row_limit=15))"
      ]
    },
    {
      "cell_type": "markdown",
      "metadata": {
        "id": "yxwpniRs5qGI"
      },
      "source": [
        "### 1 Loader"
      ]
    },
    {
      "cell_type": "code",
      "execution_count": 9,
      "metadata": {
        "colab": {
          "base_uri": "https://localhost:8080/"
        },
        "id": "1LPzBLow4n4_",
        "outputId": "8e3ebf5e-bea4-4979-f947-9c1a7d4e69f4"
      },
      "outputs": [
        {
          "name": "stdout",
          "output_type": "stream",
          "text": [
            "-------------------------------------------------------  ------------  ------------  ------------  ------------  ------------  ------------  \n",
            "                                                   Name    Self CPU %      Self CPU   CPU total %     CPU total  CPU time avg    # of Calls  \n",
            "-------------------------------------------------------  ------------  ------------  ------------  ------------  ------------  ------------  \n",
            "                                              data_load         1.34%       1.727ms       100.00%     129.146ms     129.146ms             1  \n",
            "enumerate(DataLoader)#_MultiProcessingDataLoaderIter...        98.57%     127.305ms        98.66%     127.418ms     127.418ms             1  \n",
            "                                            aten::empty         0.01%      16.000us         0.01%      16.000us       8.000us             2  \n",
            "                                               aten::to         0.01%       8.000us         0.01%       8.000us       2.000us             4  \n",
            "                                       aten::lift_fresh         0.00%       4.000us         0.00%       4.000us       2.000us             2  \n",
            "                                          aten::detach_         0.01%       8.000us         0.01%      12.000us       6.000us             2  \n",
            "                                                detach_         0.00%       4.000us         0.00%       4.000us       2.000us             2  \n",
            "                                             aten::set_         0.06%      74.000us         0.06%      74.000us      37.000us             2  \n",
            "-------------------------------------------------------  ------------  ------------  ------------  ------------  ------------  ------------  \n",
            "Self CPU time total: 129.146ms\n",
            "\n"
          ]
        },
        {
          "name": "stderr",
          "output_type": "stream",
          "text": [
            "/usr/local/lib/python3.10/dist-packages/torch/autograd/profiler.py:179: UserWarning: CUDA is not available, disabling CUDA profiling\n",
            "  warn(\"CUDA is not available, disabling CUDA profiling\")\n"
          ]
        }
      ],
      "source": [
        "workers = 1\n",
        "sort_string = \"cuda_time_total\"\n",
        "load_data(trainset, workers, sort_string)"
      ]
    },
    {
      "cell_type": "code",
      "execution_count": 9,
      "metadata": {
        "id": "xrmOKBo-5zJZ"
      },
      "outputs": [],
      "source": [
        "workers = 1\n",
        "sort_string = \"self_cuda_time_total\"\n",
        "load_data(trainset, workers, sort_string)"
      ]
    },
    {
      "cell_type": "markdown",
      "metadata": {},
      "source": [
        "### 2 loaders"
      ]
    },
    {
      "cell_type": "code",
      "execution_count": null,
      "metadata": {},
      "outputs": [],
      "source": [
        "workers = 2\n",
        "sort_string = \"cuda_time_total\"\n",
        "load_data(trainset, workers, sort_string)"
      ]
    },
    {
      "cell_type": "code",
      "execution_count": null,
      "metadata": {},
      "outputs": [],
      "source": [
        "workers = 2\n",
        "sort_string = \"self_cuda_time_total\"\n",
        "load_data(trainset, workers, sort_string)"
      ]
    },
    {
      "cell_type": "markdown",
      "metadata": {},
      "source": [
        "### 4 loaders"
      ]
    },
    {
      "cell_type": "code",
      "execution_count": null,
      "metadata": {},
      "outputs": [],
      "source": [
        "workers = 4\n",
        "sort_string = \"cuda_time_total\"\n",
        "load_data(trainset, workers, sort_string)"
      ]
    },
    {
      "cell_type": "code",
      "execution_count": null,
      "metadata": {},
      "outputs": [],
      "source": [
        "workers = 4\n",
        "sort_string = \"self_cuda_time_total\"\n",
        "load_data(trainset, workers, sort_string)"
      ]
    },
    {
      "cell_type": "markdown",
      "metadata": {},
      "source": [
        "### 8 loaders"
      ]
    },
    {
      "cell_type": "code",
      "execution_count": null,
      "metadata": {},
      "outputs": [],
      "source": [
        "workers = 8\n",
        "sort_string = \"cuda_time_total\"\n",
        "load_data(trainset, workers, sort_string)"
      ]
    },
    {
      "cell_type": "code",
      "execution_count": null,
      "metadata": {},
      "outputs": [],
      "source": [
        "workers = 8\n",
        "sort_string = \"self_cuda_time_total\"\n",
        "load_data(trainset, workers, sort_string)"
      ]
    },
    {
      "attachments": {},
      "cell_type": "markdown",
      "metadata": {},
      "source": [
        "### 16 loaders"
      ]
    },
    {
      "cell_type": "code",
      "execution_count": null,
      "metadata": {},
      "outputs": [],
      "source": [
        "workers = 16\n",
        "sort_string = \"cuda_time_total\"\n",
        "load_data(trainset, workers, sort_string)"
      ]
    },
    {
      "cell_type": "code",
      "execution_count": null,
      "metadata": {},
      "outputs": [],
      "source": [
        "workers = 16\n",
        "sort_string = \"self_cuda_time_total\"\n",
        "load_data(trainset, workers, sort_string)"
      ]
    }
  ],
  "metadata": {
    "accelerator": "GPU",
    "colab": {
      "gpuType": "T4",
      "provenance": []
    },
    "gpuClass": "standard",
    "kernelspec": {
      "display_name": "Python 3",
      "name": "python3"
    },
    "language_info": {
      "name": "python"
    }
  },
  "nbformat": 4,
  "nbformat_minor": 0
}
