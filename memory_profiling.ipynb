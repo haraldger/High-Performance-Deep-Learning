{
  "cells": [
    {
      "cell_type": "code",
      "execution_count": null,
      "metadata": {
        "id": "v6p8WDdTs-Gh"
      },
      "outputs": [],
      "source": [
        "from resnet import resnet18, resnet34, resnet50, resnet101, resnet152\n",
        "from resnet import resnet18_bottleneck, resnet34_bottleneck, resnet50_bottleneck, resnet101_bottleneck, resnet152_bottleneck\n",
        "import numpy as np\n",
        "import torch\n",
        "from torch import nn\n",
        "\n",
        "device = \"cuda\""
      ]
    },
    {
      "cell_type": "code",
      "execution_count": null,
      "metadata": {
        "id": "EBqrdvFrgJgn"
      },
      "outputs": [],
      "source": [
        "from torch.profiler import profile, record_function, ProfilerActivity\n",
        "\n",
        "def profile_memory(model, inputs, sort_by_self=True):\n",
        "    sort_by_string = \"self_cpu_memory_usage\" if sort_by_self else \"cpu_memory_usage\"\n",
        "    model(inputs)   # Warmup\n",
        "\n",
        "    with profile(activities=[ProfilerActivity.CPU],\n",
        "                 profile_memory=True, record_shapes=True) as prof:\n",
        "        with record_function(\"model_inference\"):\n",
        "            model(inputs)\n",
        "\n",
        "    print(prof.key_averages().table(sort_by=sort_by_string, row_limit=15))\n",
        "\n",
        "\n",
        "def profile_memory_gpu(model, inputs, sort_by_self=True):\n",
        "    sort_by_string = \"self_cuda_memory_usage\" if sort_by_self else \"cuda_memory_usage\"\n",
        "    model(inputs) #Warmup\n",
        "\n",
        "    with profile(activities=[\n",
        "        ProfilerActivity.CPU, ProfilerActivity.CUDA],\n",
        "                 profile_memory=True, record_shapes=True) as prof:\n",
        "        with record_function(\"model_inference\"):\n",
        "            model(inputs)\n",
        "\n",
        "    print(prof.key_averages().table(sort_by=sort_by_string, row_limit=15))"
      ]
    },
    {
      "attachments": {},
      "cell_type": "markdown",
      "metadata": {
        "id": "HL804nOG61Il"
      },
      "source": [
        "# Memory Footprint\n",
        "\n",
        "We investigate how the required memory changes as we increase the size of the network and how much efficiency we gain, if any, from using bottleneck layers. Ideally, we hope that bottleneck layers will yield large efficiency gains in memory footprints, potentially reducing the required memory significantly. Additionally, we profile the larger ResNets (50, 101 and 152) with what we refer to as \"Large Mode\", where the number of internal channels have been quadrupled from the plain implementations. These large mode resnets also uses bottleneck layers."
      ]
    },
    {
      "attachments": {},
      "cell_type": "markdown",
      "metadata": {
        "id": "QyxsW3VU9q34"
      },
      "source": [
        "### Resnet-18 vs Bottleneck Resnet-18"
      ]
    },
    {
      "cell_type": "code",
      "execution_count": null,
      "metadata": {
        "colab": {
          "background_save": true
        },
        "id": "aG8YuHV77Fx0",
        "outputId": "006fe077-26a0-492b-e2e6-bcf3b923920f"
      },
      "outputs": [
        {
          "name": "stdout",
          "output_type": "stream",
          "text": [
            "---------------------------------  ------------  ------------  ------------  ------------  ------------  ------------  ------------  ------------  \n",
            "                             Name    Self CPU %      Self CPU   CPU total %     CPU total  CPU time avg       CPU Mem  Self CPU Mem    # of Calls  \n",
            "---------------------------------  ------------  ------------  ------------  ------------  ------------  ------------  ------------  ------------  \n",
            "                      aten::empty         0.01%       1.613ms         0.01%       1.613ms       8.065us       4.74 Gb       4.74 Gb           200  \n",
            "                  aten::clamp_min         3.22%     833.532ms         3.22%     833.532ms      52.096ms       1.44 Gb       1.44 Gb            16  \n",
            "    aten::max_pool2d_with_indices         8.44%        2.183s         8.44%        2.183s        2.183s     588.00 Mb     588.00 Mb             1  \n",
            "                      aten::addmm         0.02%       4.109ms         0.02%       4.262ms       4.262ms    1000.00 Kb    1000.00 Kb             1  \n",
            "                   aten::_softmax         0.00%     566.000us         0.00%     566.000us     566.000us    1000.00 Kb    1000.00 Kb             1  \n",
            "                       aten::mean         0.00%      71.000us         0.02%       4.166ms       4.166ms     512.00 Kb     512.00 Kb             1  \n",
            "                         aten::to         0.00%      51.000us         0.00%      51.000us      51.000us           4 b           4 b             1  \n",
            "              aten::empty_strided         0.00%       7.000us         0.00%       7.000us       7.000us           4 b           4 b             1  \n",
            "                     aten::conv2d         0.00%     248.000us        73.73%       19.057s     952.828ms       2.37 Gb           0 b            20  \n",
            "                aten::convolution         0.00%     758.000us        73.73%       19.056s     952.816ms       2.37 Gb           0 b            20  \n",
            "               aten::_convolution         0.00%     500.000us        73.72%       19.056s     952.778ms       2.37 Gb           0 b            20  \n",
            "         aten::mkldnn_convolution        73.72%       19.054s        73.72%       19.055s     952.753ms       2.37 Gb           0 b            20  \n",
            "                aten::as_strided_         0.00%     200.000us         0.00%     200.000us      10.000us           0 b           0 b            20  \n",
            "                       aten::add_         0.52%     135.182ms         0.52%     135.182ms       4.828ms           0 b           0 b            28  \n",
            "                 aten::batch_norm         0.00%     149.000us        12.89%        3.332s     166.584ms       2.37 Gb           0 b            20  \n",
            "---------------------------------  ------------  ------------  ------------  ------------  ------------  ------------  ------------  ------------  \n",
            "Self CPU time total: 25.848s\n",
            "\n"
          ]
        }
      ],
      "source": [
        "model = resnet18()\n",
        "inputs = torch.rand(32, 3, 224, 224)    # Batch size 32\n",
        "profile_memory(model, inputs, True)"
      ]
    },
    {
      "cell_type": "code",
      "execution_count": null,
      "metadata": {
        "colab": {
          "base_uri": "https://localhost:8080/"
        },
        "id": "ibQGZSYDl-pn",
        "outputId": "5c96ea9f-5444-48f6-e4cf-3a76f005ccd9"
      },
      "outputs": [
        {
          "name": "stdout",
          "output_type": "stream",
          "text": [
            "-------------------------------------------------------  ------------  ------------  ------------  ------------  ------------  ------------  ------------  ------------  ------------  ------------  ------------  ------------  ------------  ------------  \n",
            "                                                   Name    Self CPU %      Self CPU   CPU total %     CPU total  CPU time avg     Self CUDA   Self CUDA %    CUDA total  CUDA time avg       CPU Mem  Self CPU Mem      CUDA Mem  Self CUDA Mem    # of Calls  \n",
            "-------------------------------------------------------  ------------  ------------  ------------  ------------  ------------  ------------  ------------  ------------  ------------  ------------  ------------  ------------  ------------  ------------  \n",
            "                                            aten::empty         0.19%     714.000us         0.19%     714.000us       7.069us       0.000us         0.00%       0.000us       0.000us           0 b           0 b       2.37 Gb       2.37 Gb           101  \n",
            "                                aten::cudnn_convolution         1.74%       6.382ms         1.91%       6.982ms     349.100us     130.079ms        59.38%     150.399ms       7.520ms           0 b           0 b       2.37 Gb       2.37 Gb            20  \n",
            "                                        aten::clamp_min         0.09%     324.000us         0.14%     514.000us      32.125us      12.826ms         5.86%      14.493ms     905.812us           0 b           0 b       1.44 Gb       1.44 Gb            16  \n",
            "                          aten::max_pool2d_with_indices         0.01%      45.000us         0.02%      67.000us      67.000us       6.509ms         2.97%       6.509ms       6.509ms           0 b           0 b     588.00 Mb     588.00 Mb             1  \n",
            "                                           aten::conv2d         0.07%     239.000us         2.31%       8.451ms     422.550us       0.000us         0.00%     165.772ms       8.289ms           0 b           0 b       2.37 Gb      98.00 Mb            20  \n",
            "                                         aten::_softmax         0.01%      36.000us         0.01%      52.000us      52.000us      10.000us         0.00%      10.000us      10.000us           0 b           0 b    1000.00 Kb    1000.00 Kb             1  \n",
            "                                             aten::mean         0.01%      44.000us         0.02%      59.000us      59.000us     247.000us         0.11%     247.000us     247.000us           0 b           0 b     512.00 Kb     512.00 Kb             1  \n",
            "                                      aten::convolution         0.08%     304.000us         2.27%       8.323ms     416.150us       0.000us         0.00%     173.057ms       8.653ms           0 b           0 b       2.37 Gb           0 b            20  \n",
            "                                     aten::_convolution         0.09%     312.000us         2.19%       8.019ms     400.950us       0.000us         0.00%     173.057ms       8.653ms           0 b           0 b       2.37 Gb           0 b            20  \n",
            "                                  cudaStreamIsCapturing         0.02%      57.000us         0.02%      57.000us       1.425us      12.749ms         5.82%      12.749ms     318.725us           0 b           0 b           0 b           0 b            40  \n",
            "                                  cudaStreamGetPriority         0.00%      16.000us         0.00%      16.000us       0.400us       1.165ms         0.53%       1.165ms      29.125us           0 b           0 b           0 b           0 b            40  \n",
            "                       cudaDeviceGetStreamPriorityRange         0.00%       6.000us         0.00%       6.000us       0.150us       0.000us         0.00%       0.000us       0.000us           0 b           0 b           0 b           0 b            40  \n",
            "                                       cudaLaunchKernel         0.43%       1.592ms         0.43%       1.592ms      10.338us      21.887ms         9.99%      21.887ms     142.123us           0 b           0 b           0 b           0 b           154  \n",
            "                                        cudaMemsetAsync         0.01%      21.000us         0.01%      21.000us       2.625us     794.000us         0.36%     794.000us      99.250us           0 b           0 b           0 b           0 b             8  \n",
            "                                          aten::reshape         0.04%     147.000us         0.05%     181.000us       9.050us       0.000us         0.00%       0.000us       0.000us           0 b           0 b           0 b           0 b            20  \n",
            "-------------------------------------------------------  ------------  ------------  ------------  ------------  ------------  ------------  ------------  ------------  ------------  ------------  ------------  ------------  ------------  ------------  \n",
            "Self CPU time total: 366.431ms\n",
            "Self CUDA time total: 219.050ms\n",
            "\n"
          ]
        }
      ],
      "source": [
        "model = resnet18().to(device)\n",
        "inputs = torch.rand(32, 3, 224, 224).to(device)    # Batch size 32\n",
        "profile_memory_gpu(model, inputs, True)"
      ]
    },
    {
      "cell_type": "code",
      "execution_count": null,
      "metadata": {
        "colab": {
          "base_uri": "https://localhost:8080/"
        },
        "id": "MGIItsL-99mX",
        "outputId": "4c96a92e-3e5d-4003-ec12-7defa5e8261c"
      },
      "outputs": [
        {
          "name": "stdout",
          "output_type": "stream",
          "text": [
            "---------------------------------  ------------  ------------  ------------  ------------  ------------  ------------  ------------  ------------  \n",
            "                             Name    Self CPU %      Self CPU   CPU total %     CPU total  CPU time avg       CPU Mem  Self CPU Mem    # of Calls  \n",
            "---------------------------------  ------------  ------------  ------------  ------------  ------------  ------------  ------------  ------------  \n",
            "                      aten::empty         0.01%       2.839ms         0.01%       2.839ms      10.139us       8.04 Gb       8.04 Gb           280  \n",
            "                  aten::clamp_min         4.81%        1.166s         4.81%        1.166s      48.565ms       2.15 Gb       2.15 Gb            24  \n",
            "    aten::max_pool2d_with_indices        21.67%        5.253s        21.67%        5.253s        5.253s       1.15 Gb       1.15 Gb             1  \n",
            "                      aten::addmm         0.03%       7.888ms         0.03%       8.195ms       8.195ms       1.95 Mb       1.95 Mb             1  \n",
            "                   aten::_softmax         0.00%       1.062ms         0.00%       1.062ms       1.062ms       1.95 Mb       1.95 Mb             1  \n",
            "                       aten::mean         0.00%      84.000us         0.03%       6.115ms       6.115ms       1.00 Mb       1.00 Mb             1  \n",
            "              aten::empty_strided         0.00%       6.000us         0.00%       6.000us       6.000us           4 b           4 b             1  \n",
            "                     aten::conv2d         0.00%     358.000us        42.90%       10.401s     371.448ms       4.02 Gb           0 b            28  \n",
            "                aten::convolution         0.01%       1.273ms        42.90%       10.400s     371.435ms       4.02 Gb           0 b            28  \n",
            "               aten::_convolution         0.00%     749.000us        42.89%       10.399s     371.390ms       4.02 Gb           0 b            28  \n",
            "         aten::mkldnn_convolution        42.88%       10.396s        42.89%       10.398s     371.363ms       4.02 Gb           0 b            28  \n",
            "                aten::as_strided_         0.00%     330.000us         0.00%     330.000us      11.786us           0 b           0 b            28  \n",
            "                       aten::add_         1.29%     312.337ms         1.29%     312.337ms       8.676ms           0 b           0 b            36  \n",
            "                 aten::batch_norm         0.00%     250.000us        27.09%        6.568s     234.559ms       4.02 Gb           0 b            28  \n",
            "     aten::_batch_norm_impl_index         0.00%     612.000us        27.09%        6.567s     234.550ms       4.02 Gb           0 b            28  \n",
            "---------------------------------  ------------  ------------  ------------  ------------  ------------  ------------  ------------  ------------  \n",
            "Self CPU time total: 24.244s\n",
            "\n"
          ]
        }
      ],
      "source": [
        "model = resnet18_bottleneck()\n",
        "inputs = torch.rand(32, 3, 224, 224)    # Batch size 32\n",
        "profile_memory(model, inputs, True)"
      ]
    },
    {
      "cell_type": "code",
      "execution_count": null,
      "metadata": {
        "colab": {
          "base_uri": "https://localhost:8080/"
        },
        "id": "IvbTobqAnMHo",
        "outputId": "20f24cc1-34ce-40e5-ec98-950497edf77a"
      },
      "outputs": [
        {
          "name": "stdout",
          "output_type": "stream",
          "text": [
            "-------------------------------------------------------  ------------  ------------  ------------  ------------  ------------  ------------  ------------  ------------  ------------  ------------  ------------  ------------  ------------  ------------  \n",
            "                                                   Name    Self CPU %      Self CPU   CPU total %     CPU total  CPU time avg     Self CUDA   Self CUDA %    CUDA total  CUDA time avg       CPU Mem  Self CPU Mem      CUDA Mem  Self CUDA Mem    # of Calls  \n",
            "-------------------------------------------------------  ------------  ------------  ------------  ------------  ------------  ------------  ------------  ------------  ------------  ------------  ------------  ------------  ------------  ------------  \n",
            "                                            aten::empty         0.13%     650.000us         0.13%     650.000us       4.610us       0.000us         0.00%       0.000us       0.000us           0 b           0 b       4.02 Gb       4.02 Gb           141  \n",
            "                                aten::cudnn_convolution         0.74%       3.621ms         0.85%       4.117ms     147.036us      79.142ms        33.86%      79.142ms       2.826ms           0 b           0 b       4.02 Gb       4.02 Gb            28  \n",
            "                                        aten::clamp_min         0.07%     328.000us         0.12%     563.000us      23.458us      19.378ms         8.29%      19.378ms     807.417us           0 b           0 b       2.16 Gb       2.16 Gb            24  \n",
            "                          aten::max_pool2d_with_indices         0.00%      22.000us         0.01%      31.000us      31.000us      12.545ms         5.37%      12.545ms      12.545ms           0 b           0 b       1.15 Gb       1.15 Gb             1  \n",
            "                                           aten::conv2d         0.04%     207.000us         1.14%       5.525ms     197.321us       0.000us         0.00%     112.012ms       4.000ms           0 b           0 b       4.02 Gb     196.00 Mb            28  \n",
            "                                         aten::_softmax         0.00%      19.000us         0.01%      27.000us      27.000us      12.000us         0.01%      12.000us      12.000us           0 b           0 b       2.00 Mb       2.00 Mb             1  \n",
            "                                             aten::mean         0.01%      28.000us         0.01%      37.000us      37.000us     430.000us         0.18%     430.000us     430.000us           0 b           0 b       1.00 Mb       1.00 Mb             1  \n",
            "                                            aten::addmm         0.02%      76.000us         0.02%     107.000us     107.000us     128.000us         0.05%     128.000us     128.000us           0 b           0 b       2.00 Mb       1.00 Mb             1  \n",
            "                                      aten::convolution         0.06%     278.000us         1.11%       5.421ms     193.607us       0.000us         0.00%     115.026ms       4.108ms           0 b           0 b       4.02 Gb           0 b            28  \n",
            "                                     aten::_convolution         0.07%     327.000us         1.06%       5.143ms     183.679us       0.000us         0.00%     115.026ms       4.108ms           0 b           0 b       4.02 Gb           0 b            28  \n",
            "                                  cudaStreamIsCapturing         0.00%      21.000us         0.00%      21.000us       0.375us       0.000us         0.00%       0.000us       0.000us           0 b           0 b           0 b           0 b            56  \n",
            "                                  cudaStreamGetPriority         0.00%       0.000us         0.00%       0.000us       0.000us       0.000us         0.00%       0.000us       0.000us           0 b           0 b           0 b           0 b            56  \n",
            "                       cudaDeviceGetStreamPriorityRange         0.00%       0.000us         0.00%       0.000us       0.000us       0.000us         0.00%       0.000us       0.000us           0 b           0 b           0 b           0 b            56  \n",
            "                                       cudaLaunchKernel         0.29%       1.428ms         0.29%       1.428ms       7.176us       0.000us         0.00%       0.000us       0.000us           0 b           0 b           0 b           0 b           199  \n",
            "                                        cudaMemsetAsync         0.00%       0.000us         0.00%       0.000us       0.000us       0.000us         0.00%       0.000us       0.000us           0 b           0 b           0 b           0 b            15  \n",
            "-------------------------------------------------------  ------------  ------------  ------------  ------------  ------------  ------------  ------------  ------------  ------------  ------------  ------------  ------------  ------------  ------------  \n",
            "Self CPU time total: 486.784ms\n",
            "Self CUDA time total: 233.712ms\n",
            "\n"
          ]
        }
      ],
      "source": [
        "model = resnet18_bottleneck().to(device)\n",
        "inputs = torch.rand(32, 3, 224, 224).to(device)    # Batch size 32\n",
        "profile_memory_gpu(model, inputs, True)"
      ]
    },
    {
      "attachments": {},
      "cell_type": "markdown",
      "metadata": {
        "id": "St6IF8mKbxzJ"
      },
      "source": [
        "### Resnet-50 vs Bottleneck Resnet-50 vs Large Bottleneck Resnet-50"
      ]
    },
    {
      "cell_type": "code",
      "execution_count": null,
      "metadata": {
        "colab": {
          "base_uri": "https://localhost:8080/"
        },
        "id": "iOydtunIb4XT",
        "outputId": "81f7b514-6c36-4a2b-f46b-1f255acb3e16"
      },
      "outputs": [
        {
          "name": "stdout",
          "output_type": "stream",
          "text": [
            "---------------------------------  ------------  ------------  ------------  ------------  ------------  ------------  ------------  ------------  \n",
            "                             Name    Self CPU %      Self CPU   CPU total %     CPU total  CPU time avg       CPU Mem  Self CPU Mem    # of Calls  \n",
            "---------------------------------  ------------  ------------  ------------  ------------  ------------  ------------  ------------  ------------  \n",
            "                      aten::empty         0.12%       6.521ms         0.12%       6.521ms      18.114us     912.80 Mb     912.80 Mb           360  \n",
            "                  aten::clamp_min         1.46%      79.833ms         1.46%      79.833ms       2.495ms     336.88 Mb     336.88 Mb            32  \n",
            "    aten::max_pool2d_with_indices         7.20%     392.840ms         7.20%     392.840ms     392.840ms      73.50 Mb      73.50 Mb             1  \n",
            "                      aten::addmm         0.02%     858.000us         0.02%     895.000us     895.000us     125.00 Kb     125.00 Kb             1  \n",
            "                   aten::_softmax         0.00%      80.000us         0.00%      80.000us      80.000us     125.00 Kb     125.00 Kb             1  \n",
            "                       aten::mean         0.00%      30.000us         0.01%     483.000us     483.000us      64.00 Kb      64.00 Kb             1  \n",
            "              aten::empty_strided         0.00%       5.000us         0.00%       5.000us       5.000us           4 b           4 b             1  \n",
            "                     aten::conv2d         0.01%     410.000us        79.56%        4.342s     120.617ms     456.31 Mb           0 b            36  \n",
            "                aten::convolution         0.02%       1.306ms        79.56%        4.342s     120.605ms     456.31 Mb           0 b            36  \n",
            "               aten::_convolution         0.01%     772.000us        79.53%        4.340s     120.569ms     456.31 Mb           0 b            36  \n",
            "         aten::mkldnn_convolution        79.46%        4.336s        79.52%        4.340s     120.548ms     456.31 Mb           0 b            36  \n",
            "                aten::as_strided_         0.01%     386.000us         0.01%     386.000us      10.722us           0 b           0 b            36  \n",
            "                       aten::add_         0.64%      34.789ms         0.64%      34.789ms     669.019us           0 b           0 b            52  \n",
            "                 aten::batch_norm         0.00%     240.000us        10.53%     574.545ms      15.960ms     456.38 Mb           0 b            36  \n",
            "     aten::_batch_norm_impl_index         0.01%     594.000us        10.52%     574.305ms      15.953ms     456.38 Mb           0 b            36  \n",
            "---------------------------------  ------------  ------------  ------------  ------------  ------------  ------------  ------------  ------------  \n",
            "Self CPU time total: 5.458s\n",
            "\n"
          ]
        }
      ],
      "source": [
        "model = resnet50()\n",
        "inputs = torch.rand(32, 3, 224, 224)    # Batch size 32\n",
        "profile_memory(model, inputs, True)"
      ]
    },
    {
      "cell_type": "code",
      "execution_count": null,
      "metadata": {
        "colab": {
          "base_uri": "https://localhost:8080/"
        },
        "id": "DZpBPJNdnjjZ",
        "outputId": "5fc1aaea-f069-499e-c04f-1c0cd931269d"
      },
      "outputs": [
        {
          "name": "stdout",
          "output_type": "stream",
          "text": [
            "-------------------------------------------------------  ------------  ------------  ------------  ------------  ------------  ------------  ------------  ------------  ------------  ------------  ------------  ------------  ------------  ------------  \n",
            "                                                   Name    Self CPU %      Self CPU   CPU total %     CPU total  CPU time avg     Self CUDA   Self CUDA %    CUDA total  CUDA time avg       CPU Mem  Self CPU Mem      CUDA Mem  Self CUDA Mem    # of Calls  \n",
            "-------------------------------------------------------  ------------  ------------  ------------  ------------  ------------  ------------  ------------  ------------  ------------  ------------  ------------  ------------  ------------  ------------  \n",
            "                                            aten::empty         0.80%     805.000us         0.80%     805.000us       4.448us       0.000us         0.00%       0.000us       0.000us           0 b           0 b     457.38 Mb     457.38 Mb           181  \n",
            "                                aten::cudnn_convolution         3.03%       3.056ms         4.87%       4.912ms     136.444us      47.213ms        71.68%      47.213ms       1.311ms           0 b           0 b     457.31 Mb     457.31 Mb            36  \n",
            "                                        aten::clamp_min         0.44%     442.000us         0.68%     688.000us      21.500us       2.935ms         4.46%       2.935ms      91.719us           0 b           0 b     339.88 Mb     339.88 Mb            32  \n",
            "                          aten::max_pool2d_with_indices         0.03%      26.000us         0.04%      37.000us      37.000us       1.259ms         1.91%       1.259ms       1.259ms           0 b           0 b      74.50 Mb      74.50 Mb             1  \n",
            "                           aten::_batch_norm_impl_index         0.21%     212.000us         3.04%       3.070ms      85.278us       0.000us         0.00%       6.952ms     193.111us           0 b           0 b     456.38 Mb      24.50 Mb            36  \n",
            "                                         aten::_softmax         0.02%      22.000us         0.03%      31.000us      31.000us      13.000us         0.02%      13.000us      13.000us           0 b           0 b     125.00 Kb     125.00 Kb             1  \n",
            "                                             aten::mean         0.03%      32.000us         0.04%      42.000us      42.000us      61.000us         0.09%      61.000us      61.000us           0 b           0 b      64.00 Kb      64.00 Kb             1  \n",
            "                                           aten::conv2d         0.13%     132.000us         6.69%       6.758ms     187.722us       0.000us         0.00%      51.910ms       1.442ms           0 b           0 b     457.31 Mb           0 b            36  \n",
            "                                      aten::convolution         0.35%     349.000us         6.56%       6.626ms     184.056us       0.000us         0.00%      51.910ms       1.442ms           0 b           0 b     457.31 Mb           0 b            36  \n",
            "                                     aten::_convolution         0.44%     445.000us         6.22%       6.277ms     174.361us       0.000us         0.00%      51.910ms       1.442ms           0 b           0 b     457.31 Mb           0 b            36  \n",
            "                                  cudaStreamIsCapturing         0.00%       3.000us         0.00%       3.000us       0.042us       0.000us         0.00%       0.000us       0.000us           0 b           0 b           0 b           0 b            72  \n",
            "                                  cudaStreamGetPriority         0.00%       1.000us         0.00%       1.000us       0.014us       0.000us         0.00%       0.000us       0.000us           0 b           0 b           0 b           0 b            72  \n",
            "                       cudaDeviceGetStreamPriorityRange         0.01%      15.000us         0.01%      15.000us       0.208us       0.000us         0.00%       0.000us       0.000us           0 b           0 b           0 b           0 b            72  \n",
            "                                       cudaLaunchKernel         3.02%       3.050ms         3.02%       3.050ms      10.481us       0.000us         0.00%       0.000us       0.000us           0 b           0 b           0 b           0 b           291  \n",
            "                                        cudaMemsetAsync         0.00%       0.000us         0.00%       0.000us       0.000us       0.000us         0.00%       0.000us       0.000us           0 b           0 b           0 b           0 b             7  \n",
            "-------------------------------------------------------  ------------  ------------  ------------  ------------  ------------  ------------  ------------  ------------  ------------  ------------  ------------  ------------  ------------  ------------  \n",
            "Self CPU time total: 100.956ms\n",
            "Self CUDA time total: 65.866ms\n",
            "\n"
          ]
        }
      ],
      "source": [
        "model = resnet50().to(device)\n",
        "inputs = torch.rand(32, 3, 224, 224).to(device)    # Batch size 32\n",
        "profile_memory_gpu(model, inputs, True)"
      ]
    },
    {
      "cell_type": "code",
      "execution_count": null,
      "metadata": {
        "colab": {
          "base_uri": "https://localhost:8080/"
        },
        "id": "XWH9GsHfb-v2",
        "outputId": "085a481a-191d-4fc0-a4b7-0905c25dbbd0"
      },
      "outputs": [
        {
          "name": "stdout",
          "output_type": "stream",
          "text": [
            "---------------------------------  ------------  ------------  ------------  ------------  ------------  ------------  ------------  ------------  \n",
            "                             Name    Self CPU %      Self CPU   CPU total %     CPU total  CPU time avg       CPU Mem  Self CPU Mem    # of Calls  \n",
            "---------------------------------  ------------  ------------  ------------  ------------  ------------  ------------  ------------  ------------  \n",
            "                      aten::empty         0.40%       5.863ms         0.40%       5.863ms      11.275us     742.80 Mb     742.80 Mb           520  \n",
            "                  aten::clamp_min         3.46%      51.206ms         3.46%      51.206ms       1.067ms     252.66 Mb     252.66 Mb            48  \n",
            "    aten::max_pool2d_with_indices        20.10%     297.427ms        20.10%     297.427ms     297.427ms      73.50 Mb      73.50 Mb             1  \n",
            "                 aten::empty_like         0.01%     202.000us         0.12%       1.727ms      33.212us     372.09 Mb       1.53 Mb            52  \n",
            "                      aten::addmm         0.05%     807.000us         0.06%     846.000us     846.000us     125.00 Kb     125.00 Kb             1  \n",
            "                   aten::_softmax         0.01%      77.000us         0.01%      77.000us      77.000us     125.00 Kb     125.00 Kb             1  \n",
            "                       aten::mean         0.00%      36.000us         0.03%     484.000us     484.000us      64.00 Kb      64.00 Kb             1  \n",
            "              aten::empty_strided         0.00%       5.000us         0.00%       5.000us       5.000us           4 b           4 b             1  \n",
            "                     aten::conv2d         0.04%     518.000us        42.14%     623.580ms      11.992ms     372.09 Mb           0 b            52  \n",
            "                aten::convolution         0.12%       1.828ms        42.10%     623.062ms      11.982ms     372.09 Mb           0 b            52  \n",
            "               aten::_convolution         0.07%       1.034ms        41.98%     621.234ms      11.947ms     372.09 Mb           0 b            52  \n",
            "         aten::mkldnn_convolution        41.70%     617.166ms        41.91%     620.200ms      11.927ms     372.09 Mb           0 b            52  \n",
            "                aten::as_strided_         0.03%     443.000us         0.03%     443.000us       8.519us           0 b           0 b            52  \n",
            "                       aten::add_         2.30%      33.996ms         2.30%      33.996ms     499.941us           0 b           0 b            68  \n",
            "                 aten::batch_norm         0.03%     372.000us        29.57%     437.567ms       8.415ms     372.14 Mb           0 b            52  \n",
            "---------------------------------  ------------  ------------  ------------  ------------  ------------  ------------  ------------  ------------  \n",
            "Self CPU time total: 1.480s\n",
            "\n"
          ]
        }
      ],
      "source": [
        "model = resnet50_bottleneck()\n",
        "inputs = torch.rand(32, 3, 224, 224)    # Batch size 32\n",
        "profile_memory(model, inputs, True)"
      ]
    },
    {
      "cell_type": "code",
      "execution_count": null,
      "metadata": {
        "colab": {
          "base_uri": "https://localhost:8080/"
        },
        "id": "R86Kn1vAnlIZ",
        "outputId": "8ba95a18-ff3b-4fbd-8aa3-64b3614a7b84"
      },
      "outputs": [
        {
          "name": "stdout",
          "output_type": "stream",
          "text": [
            "-------------------------------------------------------  ------------  ------------  ------------  ------------  ------------  ------------  ------------  ------------  ------------  ------------  ------------  ------------  ------------  ------------  \n",
            "                                                   Name    Self CPU %      Self CPU   CPU total %     CPU total  CPU time avg     Self CUDA   Self CUDA %    CUDA total  CUDA time avg       CPU Mem  Self CPU Mem      CUDA Mem  Self CUDA Mem    # of Calls  \n",
            "-------------------------------------------------------  ------------  ------------  ------------  ------------  ------------  ------------  ------------  ------------  ------------  ------------  ------------  ------------  ------------  ------------  \n",
            "                                            aten::empty         4.06%       1.269ms         4.06%       1.269ms       4.862us       0.000us         0.00%       0.000us       0.000us           0 b           0 b     375.23 Mb     375.23 Mb           261  \n",
            "                                aten::cudnn_convolution        10.94%       3.417ms        16.71%       5.222ms     100.423us      12.643ms        44.35%      12.643ms     243.135us           0 b           0 b     375.19 Mb     375.19 Mb            52  \n",
            "                                        aten::clamp_min         2.30%     719.000us         3.60%       1.124ms      23.417us       2.164ms         7.59%       2.164ms      45.083us           0 b           0 b     255.56 Mb     255.56 Mb            48  \n",
            "                          aten::max_pool2d_with_indices         0.08%      25.000us         0.11%      35.000us      35.000us       1.258ms         4.41%       1.258ms       1.258ms           0 b           0 b      74.50 Mb      74.50 Mb             1  \n",
            "                                           aten::conv2d         0.96%     299.000us        25.54%       7.980ms     153.462us       0.000us         0.00%      16.327ms     313.981us           0 b           0 b     375.19 Mb       3.06 Mb            52  \n",
            "                                         aten::_softmax         0.07%      21.000us         0.10%      30.000us      30.000us      13.000us         0.05%      13.000us      13.000us           0 b           0 b     125.00 Kb     125.00 Kb             1  \n",
            "                                             aten::mean         0.10%      31.000us         0.13%      41.000us      41.000us      60.000us         0.21%      60.000us      60.000us           0 b           0 b      64.00 Kb      64.00 Kb             1  \n",
            "                                      aten::convolution         1.74%     544.000us        24.88%       7.772ms     149.462us       0.000us         0.00%      16.503ms     317.365us           0 b           0 b     375.19 Mb           0 b            52  \n",
            "                                     aten::_convolution         1.98%     618.000us        23.14%       7.228ms     139.000us       0.000us         0.00%      16.503ms     317.365us           0 b           0 b     375.19 Mb           0 b            52  \n",
            "                                  cudaStreamIsCapturing         0.07%      21.000us         0.07%      21.000us       0.202us       0.000us         0.00%       0.000us       0.000us           0 b           0 b           0 b           0 b           104  \n",
            "                                  cudaStreamGetPriority         0.00%       1.000us         0.00%       1.000us       0.010us       0.000us         0.00%       0.000us       0.000us           0 b           0 b           0 b           0 b           104  \n",
            "                       cudaDeviceGetStreamPriorityRange         0.00%       0.000us         0.00%       0.000us       0.000us       0.000us         0.00%       0.000us       0.000us           0 b           0 b           0 b           0 b           104  \n",
            "                                       cudaLaunchKernel        11.59%       3.620ms        11.59%       3.620ms      10.904us       0.000us         0.00%       0.000us       0.000us           0 b           0 b           0 b           0 b           332  \n",
            "void cask_cudnn::computeOffsetsKernel<false, false>(...         0.00%       0.000us         0.00%       0.000us       0.000us     137.000us         0.48%     137.000us       4.893us           0 b           0 b           0 b           0 b            28  \n",
            "                                        cudaMemsetAsync         0.00%       0.000us         0.00%       0.000us       0.000us       0.000us         0.00%       0.000us       0.000us           0 b           0 b           0 b           0 b            28  \n",
            "-------------------------------------------------------  ------------  ------------  ------------  ------------  ------------  ------------  ------------  ------------  ------------  ------------  ------------  ------------  ------------  ------------  \n",
            "Self CPU time total: 31.242ms\n",
            "Self CUDA time total: 28.509ms\n",
            "\n"
          ]
        }
      ],
      "source": [
        "model = resnet50_bottleneck().to(device)\n",
        "inputs = torch.rand(32, 3, 224, 224).to(device)    # Batch size 32\n",
        "profile_memory_gpu(model, inputs, True)"
      ]
    },
    {
      "cell_type": "code",
      "execution_count": null,
      "metadata": {
        "colab": {
          "base_uri": "https://localhost:8080/"
        },
        "id": "orM_405HcG_r",
        "outputId": "0694da68-d835-42bc-8ce5-501b9437f9b9"
      },
      "outputs": [
        {
          "name": "stdout",
          "output_type": "stream",
          "text": [
            "---------------------------------  ------------  ------------  ------------  ------------  ------------  ------------  ------------  ------------  \n",
            "                             Name    Self CPU %      Self CPU   CPU total %     CPU total  CPU time avg       CPU Mem  Self CPU Mem    # of Calls  \n",
            "---------------------------------  ------------  ------------  ------------  ------------  ------------  ------------  ------------  ------------  \n",
            "                      aten::empty         0.31%       9.175ms         0.31%       9.175ms      17.311us     804.05 Mb     804.05 Mb           530  \n",
            "                  aten::clamp_min         1.85%      54.477ms         1.85%      54.477ms       1.135ms     256.88 Mb     256.88 Mb            48  \n",
            "    aten::max_pool2d_with_indices        13.40%     394.519ms        13.40%     394.519ms     394.519ms      73.50 Mb      73.50 Mb             1  \n",
            "                       aten::mean         0.00%      40.000us         0.04%       1.083ms       1.083ms     256.00 Kb     255.99 Kb             1  \n",
            "                      aten::addmm         0.11%       3.291ms         0.11%       3.335ms       3.335ms     125.00 Kb     125.00 Kb             1  \n",
            "                   aten::_softmax         0.00%      92.000us         0.00%      92.000us      92.000us     125.00 Kb     125.00 Kb             1  \n",
            "                       aten::div_         0.00%      47.000us         0.00%      79.000us      79.000us           8 b           4 b             1  \n",
            "              aten::empty_strided         0.00%       6.000us         0.00%       6.000us       6.000us           4 b           4 b             1  \n",
            "                     aten::conv2d         0.02%     653.000us        64.72%        1.906s      35.961ms     401.75 Mb           0 b            53  \n",
            "                aten::convolution         0.10%       2.942ms        64.70%        1.905s      35.949ms     401.75 Mb           0 b            53  \n",
            "               aten::_convolution         0.04%       1.214ms        64.60%        1.902s      35.893ms     401.75 Mb           0 b            53  \n",
            "         aten::mkldnn_convolution        64.34%        1.895s        64.55%        1.901s      35.870ms     401.75 Mb           0 b            53  \n",
            "                aten::as_strided_         0.02%     639.000us         0.02%     639.000us      12.057us           0 b           0 b            53  \n",
            "                       aten::add_         1.26%      37.105ms         1.26%      37.105ms     537.754us           0 b           0 b            69  \n",
            "                 aten::batch_norm         0.03%     850.000us        17.51%     515.734ms       9.731ms     401.95 Mb           0 b            53  \n",
            "---------------------------------  ------------  ------------  ------------  ------------  ------------  ------------  ------------  ------------  \n",
            "Self CPU time total: 2.945s\n",
            "\n"
          ]
        }
      ],
      "source": [
        "model = resnet50_bottleneck(large_mode=True)\n",
        "inputs = torch.rand(32, 3, 224, 224)    # Batch size 32\n",
        "profile_memory(model, inputs, True)"
      ]
    },
    {
      "cell_type": "code",
      "execution_count": null,
      "metadata": {
        "colab": {
          "base_uri": "https://localhost:8080/"
        },
        "id": "E4g7leOuno5h",
        "outputId": "4aab0f26-ae25-4d44-c984-78dc9050edef"
      },
      "outputs": [
        {
          "name": "stdout",
          "output_type": "stream",
          "text": [
            "-------------------------------------------------------  ------------  ------------  ------------  ------------  ------------  ------------  ------------  ------------  ------------  ------------  ------------  ------------  ------------  ------------  \n",
            "                                                   Name    Self CPU %      Self CPU   CPU total %     CPU total  CPU time avg     Self CUDA   Self CUDA %    CUDA total  CUDA time avg       CPU Mem  Self CPU Mem      CUDA Mem  Self CUDA Mem    # of Calls  \n",
            "-------------------------------------------------------  ------------  ------------  ------------  ------------  ------------  ------------  ------------  ------------  ------------  ------------  ------------  ------------  ------------  ------------  \n",
            "                                            aten::empty         2.12%       1.040ms         2.12%       1.040ms       3.910us       0.000us         0.00%       0.000us       0.000us           0 b           0 b     405.86 Mb     405.86 Mb           266  \n",
            "                                aten::cudnn_convolution         6.61%       3.249ms        10.29%       5.057ms      95.415us      28.617ms        62.07%      28.617ms     539.943us           0 b           0 b     404.50 Mb     404.50 Mb            53  \n",
            "                                        aten::clamp_min         1.25%     615.000us         1.95%     960.000us      20.000us       2.181ms         4.73%       2.181ms      45.438us           0 b           0 b     260.75 Mb     260.75 Mb            48  \n",
            "                          aten::max_pool2d_with_indices         0.05%      26.000us         0.07%      35.000us      35.000us       1.259ms         2.73%       1.259ms       1.259ms           0 b           0 b      74.50 Mb      74.50 Mb             1  \n",
            "                                       aten::batch_norm         0.52%     255.000us         8.63%       4.243ms      80.057us       0.000us         0.00%       7.016ms     132.377us           0 b           0 b     404.86 Mb      15.32 Mb            53  \n",
            "                                             aten::mean         0.07%      32.000us         0.08%      41.000us      41.000us     100.000us         0.22%     100.000us     100.000us           0 b           0 b     256.00 Kb     256.00 Kb             1  \n",
            "                                         aten::_softmax         0.05%      23.000us         0.07%      33.000us      33.000us      14.000us         0.03%      14.000us      14.000us           0 b           0 b     125.00 Kb     125.00 Kb             1  \n",
            "                                           aten::conv2d         0.35%     173.000us        16.04%       7.883ms     148.736us       0.000us         0.00%      32.812ms     619.094us           0 b           0 b     404.50 Mb           0 b            53  \n",
            "                                      aten::convolution         1.56%     766.000us        15.69%       7.710ms     145.472us       0.000us         0.00%      32.812ms     619.094us           0 b           0 b     404.50 Mb           0 b            53  \n",
            "                                     aten::_convolution         1.25%     612.000us        14.13%       6.944ms     131.019us       0.000us         0.00%      32.812ms     619.094us           0 b           0 b     404.50 Mb           0 b            53  \n",
            "                                  cudaStreamIsCapturing         0.00%       1.000us         0.00%       1.000us       0.009us       0.000us         0.00%       0.000us       0.000us           0 b           0 b           0 b           0 b           106  \n",
            "                                  cudaStreamGetPriority         0.00%       0.000us         0.00%       0.000us       0.000us       0.000us         0.00%       0.000us       0.000us           0 b           0 b           0 b           0 b           106  \n",
            "                       cudaDeviceGetStreamPriorityRange         0.00%       0.000us         0.00%       0.000us       0.000us       0.000us         0.00%       0.000us       0.000us           0 b           0 b           0 b           0 b           106  \n",
            "                                       cudaLaunchKernel         7.00%       3.438ms         7.00%       3.438ms       9.317us       0.000us         0.00%       0.000us       0.000us           0 b           0 b           0 b           0 b           369  \n",
            "void cask_cudnn::computeOffsetsKernel<false, false>(...         0.00%       0.000us         0.00%       0.000us       0.000us     197.000us         0.43%     197.000us       4.925us           0 b           0 b           0 b           0 b            40  \n",
            "-------------------------------------------------------  ------------  ------------  ------------  ------------  ------------  ------------  ------------  ------------  ------------  ------------  ------------  ------------  ------------  ------------  \n",
            "Self CPU time total: 49.145ms\n",
            "Self CUDA time total: 46.105ms\n",
            "\n"
          ]
        }
      ],
      "source": [
        "model = resnet50_bottleneck(large_mode=True).to(device)\n",
        "inputs = torch.rand(32, 3, 224, 224).to(device)    # Batch size 32\n",
        "profile_memory_gpu(model, inputs, True)"
      ]
    },
    {
      "attachments": {},
      "cell_type": "markdown",
      "metadata": {
        "id": "L6V9swzJsOcR"
      },
      "source": [
        "### ResNet-152 vs Bottleneck ResNet-152 vs Large Bottleneck ResNet-152"
      ]
    },
    {
      "cell_type": "code",
      "execution_count": null,
      "metadata": {
        "colab": {
          "base_uri": "https://localhost:8080/"
        },
        "id": "FTjDDQalsWAI",
        "outputId": "fc7f7d6d-cb43-47bc-c1f1-425b573e62da"
      },
      "outputs": [
        {
          "name": "stdout",
          "output_type": "stream",
          "text": [
            "---------------------------------  ------------  ------------  ------------  ------------  ------------  ------------  ------------  ------------  \n",
            "                             Name    Self CPU %      Self CPU   CPU total %     CPU total  CPU time avg       CPU Mem  Self CPU Mem    # of Calls  \n",
            "---------------------------------  ------------  ------------  ------------  ------------  ------------  ------------  ------------  ------------  \n",
            "                      aten::empty         0.09%      14.292ms         0.09%      14.292ms      13.742us       1.80 Gb       1.80 Gb          1040  \n",
            "                  aten::clamp_min         1.52%     238.191ms         1.52%     238.191ms       2.382ms     802.38 Mb     802.38 Mb           100  \n",
            "    aten::max_pool2d_with_indices         1.96%     308.286ms         1.96%     308.286ms     308.286ms      73.50 Mb      73.50 Mb             1  \n",
            "                      aten::addmm         0.01%       1.047ms         0.01%       1.095ms       1.095ms     125.00 Kb     125.00 Kb             1  \n",
            "                   aten::_softmax         0.00%      89.000us         0.00%      89.000us      89.000us     125.00 Kb     125.00 Kb             1  \n",
            "                       aten::mean         0.00%      35.000us         0.00%     547.000us     547.000us      64.00 Kb      64.00 Kb             1  \n",
            "              aten::empty_strided         0.00%       6.000us         0.00%       6.000us       6.000us           4 b           4 b             1  \n",
            "                     aten::conv2d         0.01%       1.399ms        89.09%       13.981s     134.431ms     921.81 Mb           0 b           104  \n",
            "                aten::convolution         0.02%       3.821ms        89.08%       13.979s     134.417ms     921.81 Mb           0 b           104  \n",
            "               aten::_convolution         0.01%       2.198ms        89.05%       13.976s     134.380ms     921.81 Mb           0 b           104  \n",
            "         aten::mkldnn_convolution        89.01%       13.969s        89.04%       13.973s     134.359ms     921.81 Mb           0 b           104  \n",
            "                aten::as_strided_         0.01%       1.097ms         0.01%       1.097ms      10.548us           0 b           0 b           104  \n",
            "                       aten::add_         0.53%      82.729ms         0.53%      82.729ms     537.201us           0 b           0 b           154  \n",
            "                 aten::batch_norm         0.00%     775.000us         6.54%        1.026s       9.865ms     922.00 Mb           0 b           104  \n",
            "     aten::_batch_norm_impl_index         0.04%       6.280ms         6.53%        1.025s       9.857ms     922.00 Mb           0 b           104  \n",
            "---------------------------------  ------------  ------------  ------------  ------------  ------------  ------------  ------------  ------------  \n",
            "Self CPU time total: 15.693s\n",
            "\n"
          ]
        }
      ],
      "source": [
        "model = resnet152()\n",
        "inputs = torch.rand(32, 3, 224, 224)    # Batch size 32\n",
        "profile_memory(model, inputs, True)"
      ]
    },
    {
      "cell_type": "code",
      "execution_count": null,
      "metadata": {
        "colab": {
          "base_uri": "https://localhost:8080/"
        },
        "id": "haO5s73poQkE",
        "outputId": "a24476a8-67ce-4c17-92cb-80e6161e7028"
      },
      "outputs": [
        {
          "name": "stdout",
          "output_type": "stream",
          "text": [
            "-------------------------------------------------------  ------------  ------------  ------------  ------------  ------------  ------------  ------------  ------------  ------------  ------------  ------------  ------------  ------------  ------------  \n",
            "                                                   Name    Self CPU %      Self CPU   CPU total %     CPU total  CPU time avg     Self CUDA   Self CUDA %    CUDA total  CUDA time avg       CPU Mem  Self CPU Mem      CUDA Mem  Self CUDA Mem    # of Calls  \n",
            "-------------------------------------------------------  ------------  ------------  ------------  ------------  ------------  ------------  ------------  ------------  ------------  ------------  ------------  ------------  ------------  ------------  \n",
            "                                            aten::empty         1.61%       4.289ms         1.61%       4.289ms       8.232us       0.000us         0.00%       0.000us       0.000us           0 b           0 b     924.94 Mb     924.94 Mb           521  \n",
            "                                aten::cudnn_convolution         3.19%       8.523ms        15.30%      40.862ms     392.904us     112.101ms        75.44%     112.101ms       1.078ms           0 b           0 b     923.94 Mb     923.94 Mb           104  \n",
            "                                        aten::clamp_min         0.76%       2.040ms         2.43%       6.498ms      64.980us       6.991ms         4.70%       6.991ms      69.910us           0 b           0 b     802.38 Mb     802.38 Mb           100  \n",
            "                          aten::max_pool2d_with_indices         0.01%      40.000us         0.02%      55.000us      55.000us       1.142ms         0.77%       1.142ms       1.142ms           0 b           0 b      73.50 Mb      73.50 Mb             1  \n",
            "                                         aten::_softmax         0.01%      35.000us         0.02%      51.000us      51.000us       8.000us         0.01%       8.000us       8.000us           0 b           0 b     125.00 Kb     125.00 Kb             1  \n",
            "                                             aten::mean         0.02%      50.000us         0.02%      65.000us      65.000us      41.000us         0.03%      41.000us      41.000us           0 b           0 b      64.00 Kb      64.00 Kb             1  \n",
            "                                           aten::conv2d         0.20%     539.000us        18.87%      50.396ms     484.577us       0.000us         0.00%     120.998ms       1.163ms           0 b           0 b     923.94 Mb           0 b           104  \n",
            "                                      aten::convolution         0.59%       1.569ms        18.67%      49.857ms     479.394us       0.000us         0.00%     120.998ms       1.163ms           0 b           0 b     923.94 Mb           0 b           104  \n",
            "                                     aten::_convolution         0.69%       1.843ms        18.08%      48.288ms     464.308us       0.000us         0.00%     120.998ms       1.163ms           0 b           0 b     923.94 Mb           0 b           104  \n",
            "                                  cudaStreamIsCapturing         0.08%     204.000us         0.08%     204.000us       0.981us       0.000us         0.00%       0.000us       0.000us           0 b           0 b           0 b           0 b           208  \n",
            "                                  cudaStreamGetPriority         0.04%      95.000us         0.04%      95.000us       0.457us       0.000us         0.00%       0.000us       0.000us           0 b           0 b           0 b           0 b           208  \n",
            "                       cudaDeviceGetStreamPriorityRange         0.02%      60.000us         0.02%      60.000us       0.288us       0.000us         0.00%       0.000us       0.000us           0 b           0 b           0 b           0 b           208  \n",
            "                                       cudaLaunchKernel        15.87%      42.399ms        15.87%      42.399ms      48.791us       0.000us         0.00%       0.000us       0.000us           0 b           0 b           0 b           0 b           869  \n",
            "                                        cudaMemsetAsync         0.00%       0.000us         0.00%       0.000us       0.000us       0.000us         0.00%       0.000us       0.000us           0 b           0 b           0 b           0 b             7  \n",
            "                                          aten::reshape         0.29%     781.000us         0.38%       1.024ms       9.846us       0.000us         0.00%       0.000us       0.000us           0 b           0 b           0 b           0 b           104  \n",
            "-------------------------------------------------------  ------------  ------------  ------------  ------------  ------------  ------------  ------------  ------------  ------------  ------------  ------------  ------------  ------------  ------------  \n",
            "Self CPU time total: 267.089ms\n",
            "Self CUDA time total: 148.592ms\n",
            "\n"
          ]
        }
      ],
      "source": [
        "model = resnet152().to(device)\n",
        "inputs = torch.rand(32, 3, 224, 224).to(device)    # Batch size 32\n",
        "profile_memory_gpu(model, inputs, True)"
      ]
    },
    {
      "cell_type": "code",
      "execution_count": null,
      "metadata": {
        "colab": {
          "base_uri": "https://localhost:8080/"
        },
        "id": "S1FDioYpstyR",
        "outputId": "01049df0-7651-409f-d8cf-bdfa2f16ead8"
      },
      "outputs": [
        {
          "name": "stdout",
          "output_type": "stream",
          "text": [
            "---------------------------------  ------------  ------------  ------------  ------------  ------------  ------------  ------------  ------------  \n",
            "                             Name    Self CPU %      Self CPU   CPU total %     CPU total  CPU time avg       CPU Mem  Self CPU Mem    # of Calls  \n",
            "---------------------------------  ------------  ------------  ------------  ------------  ------------  ------------  ------------  ------------  \n",
            "                      aten::empty         0.28%       9.797ms         0.28%       9.797ms       6.362us       1.41 Gb       1.41 Gb          1540  \n",
            "                  aten::clamp_min         3.60%     127.026ms         3.60%     127.026ms     846.840us     601.78 Mb     601.78 Mb           150  \n",
            "    aten::max_pool2d_with_indices         9.57%     337.225ms         9.57%     337.225ms     337.225ms      73.50 Mb      73.50 Mb             1  \n",
            "                      aten::addmm         0.02%     790.000us         0.02%     837.000us     837.000us     125.00 Kb     125.00 Kb             1  \n",
            "                   aten::_softmax         0.00%      78.000us         0.00%      78.000us      78.000us     125.00 Kb     125.00 Kb             1  \n",
            "                       aten::mean         0.00%      27.000us         0.01%     450.000us     450.000us      64.00 Kb      63.99 Kb             1  \n",
            "                       aten::div_         0.00%      26.000us         0.00%      55.000us      55.000us           8 b           4 b             1  \n",
            "              aten::empty_strided         0.00%       5.000us         0.00%       5.000us       5.000us           4 b           4 b             1  \n",
            "                     aten::conv2d         0.06%       1.975ms        52.89%        1.865s      12.107ms     721.22 Mb           0 b           154  \n",
            "                aten::convolution         0.16%       5.582ms        52.83%        1.863s      12.094ms     721.22 Mb           0 b           154  \n",
            "               aten::_convolution         0.10%       3.552ms        52.68%        1.857s      12.058ms     721.22 Mb           0 b           154  \n",
            "         aten::mkldnn_convolution        52.40%        1.847s        52.57%        1.853s      12.035ms     721.22 Mb           0 b           154  \n",
            "                aten::as_strided_         0.05%       1.763ms         0.05%       1.763ms      11.448us           0 b           0 b           154  \n",
            "                       aten::add_         2.57%      90.562ms         2.57%      90.562ms     443.931us           0 b           0 b           204  \n",
            "                 aten::batch_norm         0.04%       1.282ms        29.00%        1.022s       6.638ms     721.36 Mb           0 b           154  \n",
            "---------------------------------  ------------  ------------  ------------  ------------  ------------  ------------  ------------  ------------  \n",
            "Self CPU time total: 3.525s\n",
            "\n"
          ]
        }
      ],
      "source": [
        "model = resnet152_bottleneck()\n",
        "inputs = torch.rand(32, 3, 224, 224)    # Batch size 32\n",
        "profile_memory(model, inputs, True)"
      ]
    },
    {
      "cell_type": "code",
      "execution_count": null,
      "metadata": {
        "colab": {
          "base_uri": "https://localhost:8080/"
        },
        "id": "EsLNDsPfoRIU",
        "outputId": "3da887eb-dd76-4162-f942-0d9284ceca18"
      },
      "outputs": [
        {
          "name": "stdout",
          "output_type": "stream",
          "text": [
            "-------------------------------------------------------  ------------  ------------  ------------  ------------  ------------  ------------  ------------  ------------  ------------  ------------  ------------  ------------  ------------  ------------  \n",
            "                                                   Name    Self CPU %      Self CPU   CPU total %     CPU total  CPU time avg     Self CUDA   Self CUDA %    CUDA total  CUDA time avg       CPU Mem  Self CPU Mem      CUDA Mem  Self CUDA Mem    # of Calls  \n",
            "-------------------------------------------------------  ------------  ------------  ------------  ------------  ------------  ------------  ------------  ------------  ------------  ------------  ------------  ------------  ------------  ------------  \n",
            "                                            aten::empty         4.83%       3.751ms         4.83%       3.751ms       4.865us       0.000us         0.00%       0.000us       0.000us           0 b           0 b     724.01 Mb     724.01 Mb           771  \n",
            "                                aten::cudnn_convolution        10.10%       7.842ms        14.47%      11.235ms      72.955us      25.804ms        45.82%      25.804ms     167.558us           0 b           0 b     723.09 Mb     723.09 Mb           154  \n",
            "                                        aten::clamp_min         2.73%       2.123ms         4.28%       3.325ms      22.167us       4.935ms         8.76%       4.935ms      32.900us           0 b           0 b     605.06 Mb     605.06 Mb           150  \n",
            "                          aten::max_pool2d_with_indices         0.03%      26.000us         0.05%      35.000us      35.000us       1.257ms         2.23%       1.257ms       1.257ms           0 b           0 b      73.50 Mb      73.50 Mb             1  \n",
            "                                       aten::batch_norm         0.80%     622.000us        18.04%      14.006ms      90.948us       0.000us         0.00%      11.000ms      71.429us           0 b           0 b     723.01 Mb       9.19 Mb           154  \n",
            "                                           aten::conv2d         1.02%     789.000us        24.94%      19.363ms     125.734us       0.000us         0.00%      32.847ms     213.292us           0 b           0 b     723.09 Mb       7.66 Mb           154  \n",
            "                                       aten::empty_like         0.69%     536.000us         2.19%       1.699ms      11.032us       0.000us         0.00%       0.000us       0.000us           0 b           0 b     722.81 Mb       3.06 Mb           154  \n",
            "                                         aten::_softmax         0.03%      22.000us         0.04%      32.000us      32.000us      12.000us         0.02%      12.000us      12.000us           0 b           0 b     125.00 Kb     125.00 Kb             1  \n",
            "                                             aten::mean         0.04%      32.000us         0.05%      41.000us      41.000us      54.000us         0.10%      54.000us      54.000us           0 b           0 b      64.00 Kb      64.00 Kb             1  \n",
            "                                      aten::convolution         2.16%       1.679ms        24.18%      18.775ms     121.916us       0.000us         0.00%      33.182ms     215.468us           0 b           0 b     723.09 Mb           0 b           154  \n",
            "                                     aten::_convolution         2.48%       1.923ms        22.00%      17.078ms     110.896us       0.000us         0.00%      33.121ms     215.071us           0 b           0 b     723.09 Mb           0 b           154  \n",
            "                                  cudaStreamIsCapturing         0.05%      41.000us         0.05%      41.000us       0.133us       0.000us         0.00%       0.000us       0.000us           0 b           0 b           0 b           0 b           308  \n",
            "                                  cudaStreamGetPriority         0.02%      15.000us         0.02%      15.000us       0.049us       0.000us         0.00%       0.000us       0.000us           0 b           0 b           0 b           0 b           308  \n",
            "                       cudaDeviceGetStreamPriorityRange         0.00%       1.000us         0.00%       1.000us       0.003us       0.000us         0.00%       0.000us       0.000us           0 b           0 b           0 b           0 b           308  \n",
            "                                       cudaLaunchKernel        10.81%       8.396ms        10.81%       8.396ms       8.363us       0.000us         0.00%       0.000us       0.000us           0 b           0 b           0 b           0 b          1004  \n",
            "-------------------------------------------------------  ------------  ------------  ------------  ------------  ------------  ------------  ------------  ------------  ------------  ------------  ------------  ------------  ------------  ------------  \n",
            "Self CPU time total: 77.640ms\n",
            "Self CUDA time total: 56.311ms\n",
            "\n"
          ]
        }
      ],
      "source": [
        "model = resnet152_bottleneck().to(device)\n",
        "inputs = torch.rand(32, 3, 224, 224).to(device)    # Batch size 32\n",
        "profile_memory_gpu(model, inputs, True)"
      ]
    },
    {
      "cell_type": "code",
      "execution_count": null,
      "metadata": {
        "colab": {
          "base_uri": "https://localhost:8080/"
        },
        "id": "ok65dLtzsvym",
        "outputId": "ec5d6c97-be4a-48fb-b890-42a4745bb99b"
      },
      "outputs": [
        {
          "name": "stdout",
          "output_type": "stream",
          "text": [
            "---------------------------------  ------------  ------------  ------------  ------------  ------------  ------------  ------------  ------------  \n",
            "                             Name    Self CPU %      Self CPU   CPU total %     CPU total  CPU time avg       CPU Mem  Self CPU Mem    # of Calls  \n",
            "---------------------------------  ------------  ------------  ------------  ------------  ------------  ------------  ------------  ------------  \n",
            "                      aten::empty         0.23%      14.088ms         0.23%      14.088ms       9.089us       1.47 Gb       1.47 Gb          1550  \n",
            "                  aten::clamp_min         1.99%     121.850ms         1.99%     121.850ms     812.333us     606.00 Mb     606.00 Mb           150  \n",
            "    aten::max_pool2d_with_indices         4.86%     297.454ms         4.86%     297.454ms     297.454ms      73.50 Mb      73.50 Mb             1  \n",
            "                       aten::mean         0.00%      44.000us         0.03%       1.707ms       1.707ms     256.00 Kb     256.00 Kb             1  \n",
            "                      aten::addmm         0.08%       5.134ms         0.08%       5.165ms       5.165ms     125.00 Kb     125.00 Kb             1  \n",
            "                   aten::_softmax         0.00%     134.000us         0.00%     134.000us     134.000us     125.00 Kb     125.00 Kb             1  \n",
            "              aten::empty_strided         0.00%       7.000us         0.00%       7.000us       7.000us           4 b           4 b             1  \n",
            "                     aten::conv2d         0.03%       1.913ms        75.74%        4.632s      29.887ms     750.88 Mb           0 b           155  \n",
            "                aten::convolution         0.09%       5.588ms        75.71%        4.631s      29.874ms     750.88 Mb           0 b           155  \n",
            "               aten::_convolution         0.05%       3.336ms        75.62%        4.625s      29.838ms     750.88 Mb           0 b           155  \n",
            "         aten::mkldnn_convolution        75.44%        4.614s        75.56%        4.622s      29.817ms     750.88 Mb           0 b           155  \n",
            "                aten::as_strided_         0.03%       1.635ms         0.03%       1.635ms      10.548us           0 b           0 b           155  \n",
            "                       aten::add_         1.39%      85.147ms         1.39%      85.147ms     415.351us           0 b           0 b           205  \n",
            "                 aten::batch_norm         0.02%       1.324ms        14.81%     905.682ms       5.843ms     751.45 Mb           0 b           155  \n",
            "     aten::_batch_norm_impl_index         0.04%       2.501ms        14.79%     904.358ms       5.835ms     751.45 Mb           0 b           155  \n",
            "---------------------------------  ------------  ------------  ------------  ------------  ------------  ------------  ------------  ------------  \n",
            "Self CPU time total: 6.116s\n",
            "\n"
          ]
        }
      ],
      "source": [
        "model = resnet152_bottleneck(large_mode=True)\n",
        "inputs = torch.rand(32, 3, 224, 224)    # Batch size 32\n",
        "profile_memory(model, inputs, True)"
      ]
    },
    {
      "cell_type": "code",
      "execution_count": null,
      "metadata": {
        "colab": {
          "base_uri": "https://localhost:8080/"
        },
        "id": "JXabJwRKoRsO",
        "outputId": "2a4dc29c-985c-43c1-a3ee-02cf7b64e891"
      },
      "outputs": [
        {
          "name": "stdout",
          "output_type": "stream",
          "text": [
            "-------------------------------------------------------  ------------  ------------  ------------  ------------  ------------  ------------  ------------  ------------  ------------  ------------  ------------  ------------  ------------  ------------  \n",
            "                                                   Name    Self CPU %      Self CPU   CPU total %     CPU total  CPU time avg     Self CUDA   Self CUDA %    CUDA total  CUDA time avg       CPU Mem  Self CPU Mem      CUDA Mem  Self CUDA Mem    # of Calls  \n",
            "-------------------------------------------------------  ------------  ------------  ------------  ------------  ------------  ------------  ------------  ------------  ------------  ------------  ------------  ------------  ------------  ------------  \n",
            "                                aten::cudnn_convolution         4.64%       7.916ms        10.50%      17.915ms     115.581us      71.610ms        67.32%      71.610ms     462.000us           0 b           0 b     756.84 Mb     756.84 Mb           155  \n",
            "                                            aten::empty         2.05%       3.493ms         2.05%       3.493ms       4.501us       0.000us         0.00%       0.000us       0.000us           0 b           0 b     756.52 Mb     756.52 Mb           776  \n",
            "                                        aten::clamp_min         1.16%       1.976ms         2.10%       3.590ms      23.933us       5.074ms         4.77%       5.074ms      33.827us           0 b           0 b     608.97 Mb     608.97 Mb           150  \n",
            "                          aten::max_pool2d_with_indices         0.01%      25.000us         0.02%      35.000us      35.000us       1.259ms         1.18%       1.259ms       1.259ms           0 b           0 b      74.50 Mb      74.50 Mb             1  \n",
            "                                       aten::batch_norm         0.31%     521.000us         9.78%      16.681ms     107.619us       0.000us         0.00%      14.301ms      92.265us           0 b           0 b     755.52 Mb       7.66 Mb           155  \n",
            "                                           aten::conv2d         0.40%     680.000us        17.12%      29.204ms     188.413us       0.000us         0.00%      79.193ms     510.923us           0 b           0 b     756.84 Mb       3.06 Mb           155  \n",
            "                                             aten::mean         0.02%      34.000us         0.03%      43.000us      43.000us     101.000us         0.09%     101.000us     101.000us           0 b           0 b     256.00 Kb     256.00 Kb             1  \n",
            "                                         aten::_softmax         0.01%      23.000us         0.02%      32.000us      32.000us      14.000us         0.01%      14.000us      14.000us           0 b           0 b     125.00 Kb     125.00 Kb             1  \n",
            "                                      aten::convolution         0.97%       1.657ms        16.77%      28.621ms     184.652us       0.000us         0.00%      79.633ms     513.761us           0 b           0 b     756.84 Mb           0 b           155  \n",
            "                                     aten::_convolution         1.07%       1.823ms        15.80%      26.964ms     173.961us       0.000us         0.00%      79.633ms     513.761us           0 b           0 b     756.84 Mb           0 b           155  \n",
            "                                  cudaStreamIsCapturing         0.01%      25.000us         0.01%      25.000us       0.081us       0.000us         0.00%       0.000us       0.000us           0 b           0 b           0 b           0 b           310  \n",
            "                                  cudaStreamGetPriority         0.00%       1.000us         0.00%       1.000us       0.003us       0.000us         0.00%       0.000us       0.000us           0 b           0 b           0 b           0 b           310  \n",
            "                       cudaDeviceGetStreamPriorityRange         0.02%      30.000us         0.02%      30.000us       0.097us       0.000us         0.00%       0.000us       0.000us           0 b           0 b           0 b           0 b           310  \n",
            "                                       cudaLaunchKernel        17.67%      30.156ms        17.67%      30.156ms      27.845us       0.000us         0.00%       0.000us       0.000us           0 b           0 b           0 b           0 b          1083  \n",
            "                                        cudaMemsetAsync         0.00%       1.000us         0.00%       1.000us       0.009us       0.000us         0.00%       0.000us       0.000us           0 b           0 b           0 b           0 b           108  \n",
            "-------------------------------------------------------  ------------  ------------  ------------  ------------  ------------  ------------  ------------  ------------  ------------  ------------  ------------  ------------  ------------  ------------  \n",
            "Self CPU time total: 170.620ms\n",
            "Self CUDA time total: 106.366ms\n",
            "\n"
          ]
        }
      ],
      "source": [
        "model = resnet152_bottleneck(large_mode=True).to(device)\n",
        "inputs = torch.rand(32, 3, 224, 224).to(device)    # Batch size 32\n",
        "profile_memory_gpu(model, inputs, True)"
      ]
    }
  ],
  "metadata": {
    "accelerator": "GPU",
    "colab": {
      "gpuType": "T4",
      "provenance": []
    },
    "gpuClass": "standard",
    "kernelspec": {
      "display_name": "Python 3",
      "name": "python3"
    },
    "language_info": {
      "name": "python"
    }
  },
  "nbformat": 4,
  "nbformat_minor": 0
}
